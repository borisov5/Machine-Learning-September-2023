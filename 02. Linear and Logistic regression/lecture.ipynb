{
 "cells": [
  {
   "cell_type": "code",
   "execution_count": 47,
   "metadata": {},
   "outputs": [],
   "source": [
    "%matplotlib inline"
   ]
  },
  {
   "cell_type": "code",
   "execution_count": 48,
   "metadata": {},
   "outputs": [],
   "source": [
    "import numpy as np\n",
    "import pandas as pd\n",
    "import matplotlib.pyplot as plt\n",
    "\n",
    "from sklearn.preprocessing import MinMaxScaler, PolynomialFeatures\n",
    "\n",
    "from sklearn.linear_model import RANSACRegressor\n",
    "from sklearn.linear_model import LinearRegression\n",
    "from sklearn.metrics import mean_squared_error"
   ]
  },
  {
   "cell_type": "code",
   "execution_count": 49,
   "metadata": {},
   "outputs": [],
   "source": [
    "housing_data = pd.read_fwf(\"https://raw.githubusercontent.com/rupakc/UCI-Data-Analysis/master/Boston%20Housing%20Dataset/Boston%20Housing/housing.data\", header = None)"
   ]
  },
  {
   "cell_type": "code",
   "execution_count": 50,
   "metadata": {},
   "outputs": [
    {
     "data": {
      "text/html": [
       "<div>\n",
       "<style scoped>\n",
       "    .dataframe tbody tr th:only-of-type {\n",
       "        vertical-align: middle;\n",
       "    }\n",
       "\n",
       "    .dataframe tbody tr th {\n",
       "        vertical-align: top;\n",
       "    }\n",
       "\n",
       "    .dataframe thead th {\n",
       "        text-align: right;\n",
       "    }\n",
       "</style>\n",
       "<table border=\"1\" class=\"dataframe\">\n",
       "  <thead>\n",
       "    <tr style=\"text-align: right;\">\n",
       "      <th></th>\n",
       "      <th>count</th>\n",
       "      <th>mean</th>\n",
       "      <th>std</th>\n",
       "      <th>min</th>\n",
       "      <th>25%</th>\n",
       "      <th>50%</th>\n",
       "      <th>75%</th>\n",
       "      <th>max</th>\n",
       "    </tr>\n",
       "  </thead>\n",
       "  <tbody>\n",
       "    <tr>\n",
       "      <th>0</th>\n",
       "      <td>506.0</td>\n",
       "      <td>1.716290</td>\n",
       "      <td>2.653510</td>\n",
       "      <td>0.00632</td>\n",
       "      <td>0.0819</td>\n",
       "      <td>0.250895</td>\n",
       "      <td>2.326717</td>\n",
       "      <td>9.96654</td>\n",
       "    </tr>\n",
       "    <tr>\n",
       "      <th>1</th>\n",
       "      <td>506.0</td>\n",
       "      <td>11.363636</td>\n",
       "      <td>23.322453</td>\n",
       "      <td>0.00000</td>\n",
       "      <td>0.0000</td>\n",
       "      <td>0.000000</td>\n",
       "      <td>12.500000</td>\n",
       "      <td>100.00000</td>\n",
       "    </tr>\n",
       "    <tr>\n",
       "      <th>2</th>\n",
       "      <td>506.0</td>\n",
       "      <td>11.136779</td>\n",
       "      <td>6.860353</td>\n",
       "      <td>0.46000</td>\n",
       "      <td>5.1900</td>\n",
       "      <td>9.690000</td>\n",
       "      <td>18.100000</td>\n",
       "      <td>27.74000</td>\n",
       "    </tr>\n",
       "    <tr>\n",
       "      <th>3</th>\n",
       "      <td>506.0</td>\n",
       "      <td>0.069170</td>\n",
       "      <td>0.253994</td>\n",
       "      <td>0.00000</td>\n",
       "      <td>0.0000</td>\n",
       "      <td>0.000000</td>\n",
       "      <td>0.000000</td>\n",
       "      <td>1.00000</td>\n",
       "    </tr>\n",
       "    <tr>\n",
       "      <th>4</th>\n",
       "      <td>506.0</td>\n",
       "      <td>0.554695</td>\n",
       "      <td>0.115878</td>\n",
       "      <td>0.38500</td>\n",
       "      <td>0.4490</td>\n",
       "      <td>0.538000</td>\n",
       "      <td>0.624000</td>\n",
       "      <td>0.87100</td>\n",
       "    </tr>\n",
       "    <tr>\n",
       "      <th>5</th>\n",
       "      <td>506.0</td>\n",
       "      <td>6.284634</td>\n",
       "      <td>0.702617</td>\n",
       "      <td>3.56100</td>\n",
       "      <td>5.8855</td>\n",
       "      <td>6.208500</td>\n",
       "      <td>6.623500</td>\n",
       "      <td>8.78000</td>\n",
       "    </tr>\n",
       "    <tr>\n",
       "      <th>6</th>\n",
       "      <td>506.0</td>\n",
       "      <td>68.574901</td>\n",
       "      <td>28.148861</td>\n",
       "      <td>2.90000</td>\n",
       "      <td>45.0250</td>\n",
       "      <td>77.500000</td>\n",
       "      <td>94.075000</td>\n",
       "      <td>100.00000</td>\n",
       "    </tr>\n",
       "    <tr>\n",
       "      <th>7</th>\n",
       "      <td>506.0</td>\n",
       "      <td>3.696228</td>\n",
       "      <td>1.999689</td>\n",
       "      <td>0.58570</td>\n",
       "      <td>2.0737</td>\n",
       "      <td>3.107300</td>\n",
       "      <td>5.112625</td>\n",
       "      <td>9.22290</td>\n",
       "    </tr>\n",
       "    <tr>\n",
       "      <th>8</th>\n",
       "      <td>506.0</td>\n",
       "      <td>4.332016</td>\n",
       "      <td>1.417166</td>\n",
       "      <td>1.00000</td>\n",
       "      <td>4.0000</td>\n",
       "      <td>4.000000</td>\n",
       "      <td>5.000000</td>\n",
       "      <td>8.00000</td>\n",
       "    </tr>\n",
       "    <tr>\n",
       "      <th>9</th>\n",
       "      <td>506.0</td>\n",
       "      <td>408.237154</td>\n",
       "      <td>168.537116</td>\n",
       "      <td>187.00000</td>\n",
       "      <td>279.0000</td>\n",
       "      <td>330.000000</td>\n",
       "      <td>666.000000</td>\n",
       "      <td>711.00000</td>\n",
       "    </tr>\n",
       "    <tr>\n",
       "      <th>10</th>\n",
       "      <td>506.0</td>\n",
       "      <td>18.455534</td>\n",
       "      <td>2.164946</td>\n",
       "      <td>12.60000</td>\n",
       "      <td>17.4000</td>\n",
       "      <td>19.050000</td>\n",
       "      <td>20.200000</td>\n",
       "      <td>22.00000</td>\n",
       "    </tr>\n",
       "    <tr>\n",
       "      <th>11</th>\n",
       "      <td>506.0</td>\n",
       "      <td>356.674032</td>\n",
       "      <td>91.294864</td>\n",
       "      <td>0.32000</td>\n",
       "      <td>375.3775</td>\n",
       "      <td>391.440000</td>\n",
       "      <td>396.225000</td>\n",
       "      <td>396.90000</td>\n",
       "    </tr>\n",
       "    <tr>\n",
       "      <th>12</th>\n",
       "      <td>506.0</td>\n",
       "      <td>12.653063</td>\n",
       "      <td>7.141062</td>\n",
       "      <td>1.73000</td>\n",
       "      <td>6.9500</td>\n",
       "      <td>11.360000</td>\n",
       "      <td>16.955000</td>\n",
       "      <td>37.97000</td>\n",
       "    </tr>\n",
       "    <tr>\n",
       "      <th>13</th>\n",
       "      <td>506.0</td>\n",
       "      <td>22.532806</td>\n",
       "      <td>9.197104</td>\n",
       "      <td>5.00000</td>\n",
       "      <td>17.0250</td>\n",
       "      <td>21.200000</td>\n",
       "      <td>25.000000</td>\n",
       "      <td>50.00000</td>\n",
       "    </tr>\n",
       "  </tbody>\n",
       "</table>\n",
       "</div>"
      ],
      "text/plain": [
       "    count        mean         std        min       25%         50%  \\\n",
       "0   506.0    1.716290    2.653510    0.00632    0.0819    0.250895   \n",
       "1   506.0   11.363636   23.322453    0.00000    0.0000    0.000000   \n",
       "2   506.0   11.136779    6.860353    0.46000    5.1900    9.690000   \n",
       "3   506.0    0.069170    0.253994    0.00000    0.0000    0.000000   \n",
       "4   506.0    0.554695    0.115878    0.38500    0.4490    0.538000   \n",
       "5   506.0    6.284634    0.702617    3.56100    5.8855    6.208500   \n",
       "6   506.0   68.574901   28.148861    2.90000   45.0250   77.500000   \n",
       "7   506.0    3.696228    1.999689    0.58570    2.0737    3.107300   \n",
       "8   506.0    4.332016    1.417166    1.00000    4.0000    4.000000   \n",
       "9   506.0  408.237154  168.537116  187.00000  279.0000  330.000000   \n",
       "10  506.0   18.455534    2.164946   12.60000   17.4000   19.050000   \n",
       "11  506.0  356.674032   91.294864    0.32000  375.3775  391.440000   \n",
       "12  506.0   12.653063    7.141062    1.73000    6.9500   11.360000   \n",
       "13  506.0   22.532806    9.197104    5.00000   17.0250   21.200000   \n",
       "\n",
       "           75%        max  \n",
       "0     2.326717    9.96654  \n",
       "1    12.500000  100.00000  \n",
       "2    18.100000   27.74000  \n",
       "3     0.000000    1.00000  \n",
       "4     0.624000    0.87100  \n",
       "5     6.623500    8.78000  \n",
       "6    94.075000  100.00000  \n",
       "7     5.112625    9.22290  \n",
       "8     5.000000    8.00000  \n",
       "9   666.000000  711.00000  \n",
       "10   20.200000   22.00000  \n",
       "11  396.225000  396.90000  \n",
       "12   16.955000   37.97000  \n",
       "13   25.000000   50.00000  "
      ]
     },
     "execution_count": 50,
     "metadata": {},
     "output_type": "execute_result"
    }
   ],
   "source": [
    "housing_data.describe().T"
   ]
  },
  {
   "cell_type": "code",
   "execution_count": 51,
   "metadata": {},
   "outputs": [],
   "source": [
    "target = housing_data[13]"
   ]
  },
  {
   "cell_type": "code",
   "execution_count": 52,
   "metadata": {},
   "outputs": [],
   "source": [
    "attributes = housing_data.drop(columns=[13])"
   ]
  },
  {
   "cell_type": "code",
   "execution_count": 53,
   "metadata": {},
   "outputs": [
    {
     "data": {
      "text/html": [
       "<style>#sk-container-id-6 {color: black;background-color: white;}#sk-container-id-6 pre{padding: 0;}#sk-container-id-6 div.sk-toggleable {background-color: white;}#sk-container-id-6 label.sk-toggleable__label {cursor: pointer;display: block;width: 100%;margin-bottom: 0;padding: 0.3em;box-sizing: border-box;text-align: center;}#sk-container-id-6 label.sk-toggleable__label-arrow:before {content: \"▸\";float: left;margin-right: 0.25em;color: #696969;}#sk-container-id-6 label.sk-toggleable__label-arrow:hover:before {color: black;}#sk-container-id-6 div.sk-estimator:hover label.sk-toggleable__label-arrow:before {color: black;}#sk-container-id-6 div.sk-toggleable__content {max-height: 0;max-width: 0;overflow: hidden;text-align: left;background-color: #f0f8ff;}#sk-container-id-6 div.sk-toggleable__content pre {margin: 0.2em;color: black;border-radius: 0.25em;background-color: #f0f8ff;}#sk-container-id-6 input.sk-toggleable__control:checked~div.sk-toggleable__content {max-height: 200px;max-width: 100%;overflow: auto;}#sk-container-id-6 input.sk-toggleable__control:checked~label.sk-toggleable__label-arrow:before {content: \"▾\";}#sk-container-id-6 div.sk-estimator input.sk-toggleable__control:checked~label.sk-toggleable__label {background-color: #d4ebff;}#sk-container-id-6 div.sk-label input.sk-toggleable__control:checked~label.sk-toggleable__label {background-color: #d4ebff;}#sk-container-id-6 input.sk-hidden--visually {border: 0;clip: rect(1px 1px 1px 1px);clip: rect(1px, 1px, 1px, 1px);height: 1px;margin: -1px;overflow: hidden;padding: 0;position: absolute;width: 1px;}#sk-container-id-6 div.sk-estimator {font-family: monospace;background-color: #f0f8ff;border: 1px dotted black;border-radius: 0.25em;box-sizing: border-box;margin-bottom: 0.5em;}#sk-container-id-6 div.sk-estimator:hover {background-color: #d4ebff;}#sk-container-id-6 div.sk-parallel-item::after {content: \"\";width: 100%;border-bottom: 1px solid gray;flex-grow: 1;}#sk-container-id-6 div.sk-label:hover label.sk-toggleable__label {background-color: #d4ebff;}#sk-container-id-6 div.sk-serial::before {content: \"\";position: absolute;border-left: 1px solid gray;box-sizing: border-box;top: 0;bottom: 0;left: 50%;z-index: 0;}#sk-container-id-6 div.sk-serial {display: flex;flex-direction: column;align-items: center;background-color: white;padding-right: 0.2em;padding-left: 0.2em;position: relative;}#sk-container-id-6 div.sk-item {position: relative;z-index: 1;}#sk-container-id-6 div.sk-parallel {display: flex;align-items: stretch;justify-content: center;background-color: white;position: relative;}#sk-container-id-6 div.sk-item::before, #sk-container-id-6 div.sk-parallel-item::before {content: \"\";position: absolute;border-left: 1px solid gray;box-sizing: border-box;top: 0;bottom: 0;left: 50%;z-index: -1;}#sk-container-id-6 div.sk-parallel-item {display: flex;flex-direction: column;z-index: 1;position: relative;background-color: white;}#sk-container-id-6 div.sk-parallel-item:first-child::after {align-self: flex-end;width: 50%;}#sk-container-id-6 div.sk-parallel-item:last-child::after {align-self: flex-start;width: 50%;}#sk-container-id-6 div.sk-parallel-item:only-child::after {width: 0;}#sk-container-id-6 div.sk-dashed-wrapped {border: 1px dashed gray;margin: 0 0.4em 0.5em 0.4em;box-sizing: border-box;padding-bottom: 0.4em;background-color: white;}#sk-container-id-6 div.sk-label label {font-family: monospace;font-weight: bold;display: inline-block;line-height: 1.2em;}#sk-container-id-6 div.sk-label-container {text-align: center;}#sk-container-id-6 div.sk-container {/* jupyter's `normalize.less` sets `[hidden] { display: none; }` but bootstrap.min.css set `[hidden] { display: none !important; }` so we also need the `!important` here to be able to override the default hidden behavior on the sphinx rendered scikit-learn.org. See: https://github.com/scikit-learn/scikit-learn/issues/21755 */display: inline-block !important;position: relative;}#sk-container-id-6 div.sk-text-repr-fallback {display: none;}</style><div id=\"sk-container-id-6\" class=\"sk-top-container\"><div class=\"sk-text-repr-fallback\"><pre>MinMaxScaler()</pre><b>In a Jupyter environment, please rerun this cell to show the HTML representation or trust the notebook. <br />On GitHub, the HTML representation is unable to render, please try loading this page with nbviewer.org.</b></div><div class=\"sk-container\" hidden><div class=\"sk-item\"><div class=\"sk-estimator sk-toggleable\"><input class=\"sk-toggleable__control sk-hidden--visually\" id=\"sk-estimator-id-6\" type=\"checkbox\" checked><label for=\"sk-estimator-id-6\" class=\"sk-toggleable__label sk-toggleable__label-arrow\">MinMaxScaler</label><div class=\"sk-toggleable__content\"><pre>MinMaxScaler()</pre></div></div></div></div></div>"
      ],
      "text/plain": [
       "MinMaxScaler()"
      ]
     },
     "execution_count": 53,
     "metadata": {},
     "output_type": "execute_result"
    }
   ],
   "source": [
    "scaler = MinMaxScaler()\n",
    "scaler.fit(attributes)"
   ]
  },
  {
   "cell_type": "code",
   "execution_count": 54,
   "metadata": {},
   "outputs": [
    {
     "data": {
      "text/plain": [
       "array([9.96022e+00, 1.00000e+02, 2.72800e+01, 1.00000e+00, 4.86000e-01,\n",
       "       5.21900e+00, 9.71000e+01, 8.63720e+00, 7.00000e+00, 5.24000e+02,\n",
       "       9.40000e+00, 3.96580e+02, 3.62400e+01])"
      ]
     },
     "execution_count": 54,
     "metadata": {},
     "output_type": "execute_result"
    }
   ],
   "source": [
    "scaler.data_range_"
   ]
  },
  {
   "cell_type": "code",
   "execution_count": 55,
   "metadata": {},
   "outputs": [
    {
     "data": {
      "text/plain": [
       "array([6.320e-03, 0.000e+00, 4.600e-01, 0.000e+00, 3.850e-01, 3.561e+00,\n",
       "       2.900e+00, 5.857e-01, 1.000e+00, 1.870e+02, 1.260e+01, 3.200e-01,\n",
       "       1.730e+00])"
      ]
     },
     "execution_count": 55,
     "metadata": {},
     "output_type": "execute_result"
    }
   ],
   "source": [
    "scaler.data_min_"
   ]
  },
  {
   "cell_type": "code",
   "execution_count": 56,
   "metadata": {},
   "outputs": [],
   "source": [
    "attributes = scaler.transform(attributes)"
   ]
  },
  {
   "cell_type": "code",
   "execution_count": 57,
   "metadata": {},
   "outputs": [],
   "source": [
    "linear_regression = LinearRegression()"
   ]
  },
  {
   "cell_type": "code",
   "execution_count": 58,
   "metadata": {},
   "outputs": [
    {
     "data": {
      "text/html": [
       "<style>#sk-container-id-7 {color: black;background-color: white;}#sk-container-id-7 pre{padding: 0;}#sk-container-id-7 div.sk-toggleable {background-color: white;}#sk-container-id-7 label.sk-toggleable__label {cursor: pointer;display: block;width: 100%;margin-bottom: 0;padding: 0.3em;box-sizing: border-box;text-align: center;}#sk-container-id-7 label.sk-toggleable__label-arrow:before {content: \"▸\";float: left;margin-right: 0.25em;color: #696969;}#sk-container-id-7 label.sk-toggleable__label-arrow:hover:before {color: black;}#sk-container-id-7 div.sk-estimator:hover label.sk-toggleable__label-arrow:before {color: black;}#sk-container-id-7 div.sk-toggleable__content {max-height: 0;max-width: 0;overflow: hidden;text-align: left;background-color: #f0f8ff;}#sk-container-id-7 div.sk-toggleable__content pre {margin: 0.2em;color: black;border-radius: 0.25em;background-color: #f0f8ff;}#sk-container-id-7 input.sk-toggleable__control:checked~div.sk-toggleable__content {max-height: 200px;max-width: 100%;overflow: auto;}#sk-container-id-7 input.sk-toggleable__control:checked~label.sk-toggleable__label-arrow:before {content: \"▾\";}#sk-container-id-7 div.sk-estimator input.sk-toggleable__control:checked~label.sk-toggleable__label {background-color: #d4ebff;}#sk-container-id-7 div.sk-label input.sk-toggleable__control:checked~label.sk-toggleable__label {background-color: #d4ebff;}#sk-container-id-7 input.sk-hidden--visually {border: 0;clip: rect(1px 1px 1px 1px);clip: rect(1px, 1px, 1px, 1px);height: 1px;margin: -1px;overflow: hidden;padding: 0;position: absolute;width: 1px;}#sk-container-id-7 div.sk-estimator {font-family: monospace;background-color: #f0f8ff;border: 1px dotted black;border-radius: 0.25em;box-sizing: border-box;margin-bottom: 0.5em;}#sk-container-id-7 div.sk-estimator:hover {background-color: #d4ebff;}#sk-container-id-7 div.sk-parallel-item::after {content: \"\";width: 100%;border-bottom: 1px solid gray;flex-grow: 1;}#sk-container-id-7 div.sk-label:hover label.sk-toggleable__label {background-color: #d4ebff;}#sk-container-id-7 div.sk-serial::before {content: \"\";position: absolute;border-left: 1px solid gray;box-sizing: border-box;top: 0;bottom: 0;left: 50%;z-index: 0;}#sk-container-id-7 div.sk-serial {display: flex;flex-direction: column;align-items: center;background-color: white;padding-right: 0.2em;padding-left: 0.2em;position: relative;}#sk-container-id-7 div.sk-item {position: relative;z-index: 1;}#sk-container-id-7 div.sk-parallel {display: flex;align-items: stretch;justify-content: center;background-color: white;position: relative;}#sk-container-id-7 div.sk-item::before, #sk-container-id-7 div.sk-parallel-item::before {content: \"\";position: absolute;border-left: 1px solid gray;box-sizing: border-box;top: 0;bottom: 0;left: 50%;z-index: -1;}#sk-container-id-7 div.sk-parallel-item {display: flex;flex-direction: column;z-index: 1;position: relative;background-color: white;}#sk-container-id-7 div.sk-parallel-item:first-child::after {align-self: flex-end;width: 50%;}#sk-container-id-7 div.sk-parallel-item:last-child::after {align-self: flex-start;width: 50%;}#sk-container-id-7 div.sk-parallel-item:only-child::after {width: 0;}#sk-container-id-7 div.sk-dashed-wrapped {border: 1px dashed gray;margin: 0 0.4em 0.5em 0.4em;box-sizing: border-box;padding-bottom: 0.4em;background-color: white;}#sk-container-id-7 div.sk-label label {font-family: monospace;font-weight: bold;display: inline-block;line-height: 1.2em;}#sk-container-id-7 div.sk-label-container {text-align: center;}#sk-container-id-7 div.sk-container {/* jupyter's `normalize.less` sets `[hidden] { display: none; }` but bootstrap.min.css set `[hidden] { display: none !important; }` so we also need the `!important` here to be able to override the default hidden behavior on the sphinx rendered scikit-learn.org. See: https://github.com/scikit-learn/scikit-learn/issues/21755 */display: inline-block !important;position: relative;}#sk-container-id-7 div.sk-text-repr-fallback {display: none;}</style><div id=\"sk-container-id-7\" class=\"sk-top-container\"><div class=\"sk-text-repr-fallback\"><pre>LinearRegression()</pre><b>In a Jupyter environment, please rerun this cell to show the HTML representation or trust the notebook. <br />On GitHub, the HTML representation is unable to render, please try loading this page with nbviewer.org.</b></div><div class=\"sk-container\" hidden><div class=\"sk-item\"><div class=\"sk-estimator sk-toggleable\"><input class=\"sk-toggleable__control sk-hidden--visually\" id=\"sk-estimator-id-7\" type=\"checkbox\" checked><label for=\"sk-estimator-id-7\" class=\"sk-toggleable__label sk-toggleable__label-arrow\">LinearRegression</label><div class=\"sk-toggleable__content\"><pre>LinearRegression()</pre></div></div></div></div></div>"
      ],
      "text/plain": [
       "LinearRegression()"
      ]
     },
     "execution_count": 58,
     "metadata": {},
     "output_type": "execute_result"
    }
   ],
   "source": [
    "linear_regression.fit(attributes, target)"
   ]
  },
  {
   "cell_type": "code",
   "execution_count": 59,
   "metadata": {},
   "outputs": [
    {
     "data": {
      "text/plain": [
       "0.7198065414937174"
      ]
     },
     "execution_count": 59,
     "metadata": {},
     "output_type": "execute_result"
    }
   ],
   "source": [
    "linear_regression.score(attributes, target)"
   ]
  },
  {
   "cell_type": "code",
   "execution_count": 60,
   "metadata": {},
   "outputs": [],
   "source": [
    "predictions = linear_regression.predict(attributes)"
   ]
  },
  {
   "cell_type": "code",
   "execution_count": 61,
   "metadata": {},
   "outputs": [
    {
     "data": {
      "text/plain": [
       "23.65380740496137"
      ]
     },
     "execution_count": 61,
     "metadata": {},
     "output_type": "execute_result"
    }
   ],
   "source": [
    "mean_squared_error(target, predictions)"
   ]
  },
  {
   "cell_type": "code",
   "execution_count": 62,
   "metadata": {},
   "outputs": [
    {
     "data": {
      "text/plain": [
       "4.86351800705635"
      ]
     },
     "execution_count": 62,
     "metadata": {},
     "output_type": "execute_result"
    }
   ],
   "source": [
    "np.sqrt(((predictions - target) ** 2).sum() / len(target))"
   ]
  },
  {
   "cell_type": "code",
   "execution_count": 63,
   "metadata": {},
   "outputs": [
    {
     "data": {
      "image/png": "[encoded data removed]",
      "text/plain": [
       "<Figure size 640x480 with 1 Axes>"
      ]
     },
     "metadata": {},
     "output_type": "display_data"
    }
   ],
   "source": [
    "plt.hist(target, bins='fd')\n",
    "plt.xlabel('House price [x 1e3 USD]') # 1 * (10 ** 3)\n",
    "plt.ylabel('Count')\n",
    "plt.show()"
   ]
  },
  {
   "cell_type": "code",
   "execution_count": 64,
   "metadata": {},
   "outputs": [
    {
     "data": {
      "text/plain": [
       "22.532806324110677"
      ]
     },
     "execution_count": 64,
     "metadata": {},
     "output_type": "execute_result"
    }
   ],
   "source": [
    "target.mean()"
   ]
  },
  {
   "cell_type": "code",
   "execution_count": 65,
   "metadata": {},
   "outputs": [
    {
     "data": {
      "text/plain": [
       "1.1080984082549072"
      ]
     },
     "execution_count": 65,
     "metadata": {},
     "output_type": "execute_result"
    }
   ],
   "source": [
    "target.skew()"
   ]
  },
  {
   "cell_type": "code",
   "execution_count": 66,
   "metadata": {},
   "outputs": [
    {
     "data": {
      "text/plain": [
       "17.157373124869423"
      ]
     },
     "execution_count": 66,
     "metadata": {},
     "output_type": "execute_result"
    }
   ],
   "source": [
    "(np.abs(target - predictions) / target).mean() * 100"
   ]
  },
  {
   "cell_type": "code",
   "execution_count": 67,
   "metadata": {},
   "outputs": [],
   "source": [
    "targets_lt_10k = target[target <= 10]"
   ]
  },
  {
   "cell_type": "code",
   "execution_count": 68,
   "metadata": {},
   "outputs": [],
   "source": [
    "attributes_lt_10k = housing_data.loc[targets_lt_10k.index].drop(columns=13)"
   ]
  },
  {
   "cell_type": "code",
   "execution_count": 69,
   "metadata": {},
   "outputs": [],
   "source": [
    "predictions_lt_10k = linear_regression.predict(attributes_lt_10k)"
   ]
  },
  {
   "cell_type": "code",
   "execution_count": 70,
   "metadata": {},
   "outputs": [
    {
     "data": {
      "text/plain": [
       "7448.500313937052"
      ]
     },
     "execution_count": 70,
     "metadata": {},
     "output_type": "execute_result"
    }
   ],
   "source": [
    "(np.abs(targets_lt_10k - predictions_lt_10k) / targets_lt_10k).mean() * 100"
   ]
  },
  {
   "cell_type": "code",
   "execution_count": 71,
   "metadata": {},
   "outputs": [
    {
     "data": {
      "text/plain": [
       "array([  2.08448854,   1.49403979,   0.34690497,   3.00565375,\n",
       "        -7.54441381,  22.43940145,   0.27658754,  -9.35981793,\n",
       "         1.35281035,  -1.26826011,  -9.07603108,   3.74177288,\n",
       "       -19.03479847])"
      ]
     },
     "execution_count": 71,
     "metadata": {},
     "output_type": "execute_result"
    }
   ],
   "source": [
    "linear_regression.coef_"
   ]
  },
  {
   "cell_type": "code",
   "execution_count": 72,
   "metadata": {},
   "outputs": [
    {
     "data": {
      "text/plain": [
       "23.689291534676954"
      ]
     },
     "execution_count": 72,
     "metadata": {},
     "output_type": "execute_result"
    }
   ],
   "source": [
    "linear_regression.intercept_ # свободен член"
   ]
  },
  {
   "cell_type": "code",
   "execution_count": 73,
   "metadata": {},
   "outputs": [],
   "source": [
    "ransac = RANSACRegressor()"
   ]
  },
  {
   "cell_type": "code",
   "execution_count": 74,
   "metadata": {},
   "outputs": [
    {
     "data": {
      "text/html": [
       "<style>#sk-container-id-8 {color: black;background-color: white;}#sk-container-id-8 pre{padding: 0;}#sk-container-id-8 div.sk-toggleable {background-color: white;}#sk-container-id-8 label.sk-toggleable__label {cursor: pointer;display: block;width: 100%;margin-bottom: 0;padding: 0.3em;box-sizing: border-box;text-align: center;}#sk-container-id-8 label.sk-toggleable__label-arrow:before {content: \"▸\";float: left;margin-right: 0.25em;color: #696969;}#sk-container-id-8 label.sk-toggleable__label-arrow:hover:before {color: black;}#sk-container-id-8 div.sk-estimator:hover label.sk-toggleable__label-arrow:before {color: black;}#sk-container-id-8 div.sk-toggleable__content {max-height: 0;max-width: 0;overflow: hidden;text-align: left;background-color: #f0f8ff;}#sk-container-id-8 div.sk-toggleable__content pre {margin: 0.2em;color: black;border-radius: 0.25em;background-color: #f0f8ff;}#sk-container-id-8 input.sk-toggleable__control:checked~div.sk-toggleable__content {max-height: 200px;max-width: 100%;overflow: auto;}#sk-container-id-8 input.sk-toggleable__control:checked~label.sk-toggleable__label-arrow:before {content: \"▾\";}#sk-container-id-8 div.sk-estimator input.sk-toggleable__control:checked~label.sk-toggleable__label {background-color: #d4ebff;}#sk-container-id-8 div.sk-label input.sk-toggleable__control:checked~label.sk-toggleable__label {background-color: #d4ebff;}#sk-container-id-8 input.sk-hidden--visually {border: 0;clip: rect(1px 1px 1px 1px);clip: rect(1px, 1px, 1px, 1px);height: 1px;margin: -1px;overflow: hidden;padding: 0;position: absolute;width: 1px;}#sk-container-id-8 div.sk-estimator {font-family: monospace;background-color: #f0f8ff;border: 1px dotted black;border-radius: 0.25em;box-sizing: border-box;margin-bottom: 0.5em;}#sk-container-id-8 div.sk-estimator:hover {background-color: #d4ebff;}#sk-container-id-8 div.sk-parallel-item::after {content: \"\";width: 100%;border-bottom: 1px solid gray;flex-grow: 1;}#sk-container-id-8 div.sk-label:hover label.sk-toggleable__label {background-color: #d4ebff;}#sk-container-id-8 div.sk-serial::before {content: \"\";position: absolute;border-left: 1px solid gray;box-sizing: border-box;top: 0;bottom: 0;left: 50%;z-index: 0;}#sk-container-id-8 div.sk-serial {display: flex;flex-direction: column;align-items: center;background-color: white;padding-right: 0.2em;padding-left: 0.2em;position: relative;}#sk-container-id-8 div.sk-item {position: relative;z-index: 1;}#sk-container-id-8 div.sk-parallel {display: flex;align-items: stretch;justify-content: center;background-color: white;position: relative;}#sk-container-id-8 div.sk-item::before, #sk-container-id-8 div.sk-parallel-item::before {content: \"\";position: absolute;border-left: 1px solid gray;box-sizing: border-box;top: 0;bottom: 0;left: 50%;z-index: -1;}#sk-container-id-8 div.sk-parallel-item {display: flex;flex-direction: column;z-index: 1;position: relative;background-color: white;}#sk-container-id-8 div.sk-parallel-item:first-child::after {align-self: flex-end;width: 50%;}#sk-container-id-8 div.sk-parallel-item:last-child::after {align-self: flex-start;width: 50%;}#sk-container-id-8 div.sk-parallel-item:only-child::after {width: 0;}#sk-container-id-8 div.sk-dashed-wrapped {border: 1px dashed gray;margin: 0 0.4em 0.5em 0.4em;box-sizing: border-box;padding-bottom: 0.4em;background-color: white;}#sk-container-id-8 div.sk-label label {font-family: monospace;font-weight: bold;display: inline-block;line-height: 1.2em;}#sk-container-id-8 div.sk-label-container {text-align: center;}#sk-container-id-8 div.sk-container {/* jupyter's `normalize.less` sets `[hidden] { display: none; }` but bootstrap.min.css set `[hidden] { display: none !important; }` so we also need the `!important` here to be able to override the default hidden behavior on the sphinx rendered scikit-learn.org. See: https://github.com/scikit-learn/scikit-learn/issues/21755 */display: inline-block !important;position: relative;}#sk-container-id-8 div.sk-text-repr-fallback {display: none;}</style><div id=\"sk-container-id-8\" class=\"sk-top-container\"><div class=\"sk-text-repr-fallback\"><pre>RANSACRegressor()</pre><b>In a Jupyter environment, please rerun this cell to show the HTML representation or trust the notebook. <br />On GitHub, the HTML representation is unable to render, please try loading this page with nbviewer.org.</b></div><div class=\"sk-container\" hidden><div class=\"sk-item\"><div class=\"sk-estimator sk-toggleable\"><input class=\"sk-toggleable__control sk-hidden--visually\" id=\"sk-estimator-id-8\" type=\"checkbox\" checked><label for=\"sk-estimator-id-8\" class=\"sk-toggleable__label sk-toggleable__label-arrow\">RANSACRegressor</label><div class=\"sk-toggleable__content\"><pre>RANSACRegressor()</pre></div></div></div></div></div>"
      ],
      "text/plain": [
       "RANSACRegressor()"
      ]
     },
     "execution_count": 74,
     "metadata": {},
     "output_type": "execute_result"
    }
   ],
   "source": [
    "ransac.fit(attributes, target)"
   ]
  },
  {
   "cell_type": "code",
   "execution_count": 75,
   "metadata": {},
   "outputs": [
    {
     "data": {
      "text/plain": [
       "0.6541501976284585"
      ]
     },
     "execution_count": 75,
     "metadata": {},
     "output_type": "execute_result"
    }
   ],
   "source": [
    "ransac.inlier_mask_.sum() / len(target)"
   ]
  },
  {
   "cell_type": "code",
   "execution_count": 76,
   "metadata": {},
   "outputs": [
    {
     "data": {
      "text/plain": [
       "21.277171335772746"
      ]
     },
     "execution_count": 76,
     "metadata": {},
     "output_type": "execute_result"
    }
   ],
   "source": [
    "(np.abs(target - ransac.predict(attributes)) / target).mean() * 100"
   ]
  },
  {
   "cell_type": "code",
   "execution_count": 77,
   "metadata": {},
   "outputs": [],
   "source": [
    "inliers = attributes[ransac.inlier_mask_]"
   ]
  },
  {
   "cell_type": "code",
   "execution_count": 78,
   "metadata": {},
   "outputs": [],
   "source": [
    "inlier_targets = target[ransac.inlier_mask_]"
   ]
  },
  {
   "cell_type": "code",
   "execution_count": 79,
   "metadata": {},
   "outputs": [
    {
     "data": {
      "text/plain": [
       "array([22.08325738, 22.66540924, 22.39582533, 18.20199361, 20.64720306,\n",
       "       20.90403688, 24.53525657, 17.77181648, 16.898766  , 17.27123143,\n",
       "       20.17837045, 17.26399855, 15.7138528 , 12.62836089, 16.51865326,\n",
       "       15.09429294, 15.92975666, 14.15706282, 14.51301015, 20.54791637,\n",
       "       22.64737107, 13.8096409 , 15.71514748, 13.5571702 , 13.07753786,\n",
       "       12.99432115, 19.16416933, 18.49480378, 20.41351722, 22.76199176,\n",
       "       29.43138805, 33.74208119, 30.85884558, 24.79295848, 25.8982931 ,\n",
       "       21.52365349, 19.11605813, 20.8469824 , 18.56371879, 13.6571604 ,\n",
       "       16.13831758, 21.65570186, 20.73138889, 27.92683909, 23.48466666,\n",
       "       17.04527336, 34.83862654, 24.52186689, 31.13334981, 21.67869218,\n",
       "       19.00161097, 15.84579803, 15.26299366, 21.56205924, 26.83362367,\n",
       "       21.9456202 , 19.41717966, 16.09680564, 18.52819685, 25.45238966,\n",
       "       20.30599379, 21.99595324, 23.72754925, 25.32665507, 21.54926298,\n",
       "       19.10651403, 20.6634828 , 20.61431628, 18.86699594, 27.70166242,\n",
       "       23.44203465, 23.96524933, 21.18996147, 24.32707591, 25.37869886,\n",
       "       21.71335905, 21.22050077, 30.61320663, 24.5080562 , 23.59751539,\n",
       "       25.15866761, 24.9837058 , 21.56213898, 21.00210954, 37.76839754,\n",
       "       33.08175766, 24.1742559 , 25.1965213 , 18.47975514, 18.43278719,\n",
       "       16.37408841, 18.7899984 , 20.80211543, 19.3480751 , 22.02416915,\n",
       "       26.62171597, 19.00336036, 20.60845515, 21.95709612, 17.60758657,\n",
       "       22.48719403, 19.76625946, 18.1924486 , 19.06808251, 19.83792401,\n",
       "       19.35931307, 18.81742693, 18.49605885, 17.7830427 , 16.29903415,\n",
       "       14.6267072 , 21.34402696, 14.4741834 , 20.87241667, 19.63315568,\n",
       "       20.49197442, 16.60668262, 21.34109634, 16.77922665, 19.33435136,\n",
       "       11.07430966, 15.08625217, 18.66031573, 16.07670078, 19.22313128,\n",
       "       18.60078815,  9.02685427, 23.00363026, 17.02064484, 18.47959796,\n",
       "       24.7053742 , 20.77341067, 29.71873021, 23.96601831, 23.89401284,\n",
       "       29.24161519, 36.70878655, 31.6104847 , 29.3517374 , 35.1607519 ,\n",
       "       32.70591552, 30.14852921, 34.53220306, 32.84602144, 29.38056461,\n",
       "       32.74380281, 33.93853262, 25.58769636, 41.04697886, 43.84479301,\n",
       "       45.47440359, 22.8017011 , 23.84819202, 20.04848206, 25.86287822,\n",
       "       21.01039834, 23.34376579, 23.18598762, 26.66226576, 21.24483786,\n",
       "       23.79095821, 29.11593772, 23.29553878, 29.20139116, 41.300656  ,\n",
       "       38.0685136 , 30.21341239, 29.6283015 , 32.60363621, 41.72087911,\n",
       "       27.1326479 , 22.30962461, 26.2834036 , 32.79083564, 27.97089818,\n",
       "       27.26472769, 21.3380716 , 23.62935999, 27.28102439, 21.9141253 ,\n",
       "       27.85887078, 26.27822527, 25.08686502, 29.76608394, 42.59371603,\n",
       "       22.03980523, 21.56874173, 37.62877406, 40.39860645, 48.30941408,\n",
       "       37.40212293, 24.7713647 , 48.51371762, 41.10993404, 20.43308285,\n",
       "       20.94117452, 26.30008186, 25.57068119, 36.97005403, 30.60674164,\n",
       "       30.17956693, 33.7454287 , 31.30215523, 28.39825837, 33.1838686 ,\n",
       "       33.35029895, 45.31164299, 21.69551221, 24.51340654, 24.25969401,\n",
       "       28.22895844, 30.69793913, 33.5293105 , 29.12918261, 24.89569638,\n",
       "       21.80107228, 28.35613647, 25.26489154, 18.66836606, 29.51858367,\n",
       "       33.88552969, 35.33377274, 28.43319911, 34.7519872 , 29.52236807,\n",
       "       24.51549506, 19.69364743, 23.00966559, 19.34248754, 21.40259821,\n",
       "       24.01338815, 16.81124791, 19.24345383, 18.85792842, 24.34138503,\n",
       "       22.71893889, 23.78889556, 23.05915604, 20.28025783, 24.55149958,\n",
       "       26.42435811, 24.23006378, 21.75699449, 21.10788781, 25.69671015,\n",
       "       22.12955244, 20.09298746, 21.75201659, 22.95300047, 23.02997128,\n",
       "       21.5343944 , 19.5279349 , 18.35284322, 22.20522744, 20.96149325,\n",
       "       19.4765428 , 33.09651948, 31.10884903, 17.54321272, 15.65429009,\n",
       "       26.96064064, 21.9587925 , 28.38166632, 32.69758886, 20.14528046,\n",
       "       22.33381496, 23.02410302, 20.87308094, 20.86938177, 21.5533307 ,\n",
       "       20.18644114, 16.65703676, 10.4731986 , 14.94680836, 14.98632174,\n",
       "        7.28404273,  8.93557415, 13.08468996, 15.53948001, 19.73860359,\n",
       "       10.66340287, 10.41233532, 19.20469244, 15.88212382, 11.37327826,\n",
       "       10.60958107, 13.4148701 , 12.38166302,  9.39618221, 15.76459383,\n",
       "       10.39010975,  7.59426767, 10.20631371, 20.75089158, 13.12692439,\n",
       "       11.83883199, 11.47765712, 11.81815637, 17.55784118, 19.74307308,\n",
       "       22.02436848, 22.47533397, 21.38196874, 16.46542495, 16.65842838,\n",
       "       18.40648292, 21.4853583 , 27.07253854, 15.49315362,  9.65855579,\n",
       "       18.12534001, 18.78019066, 22.28557506, 25.00199425, 17.73094144,\n",
       "       21.07349971, 17.67052712,  9.50220352,  6.42919735, 15.57189964,\n",
       "       19.94460188, 23.41431772, 22.57162645, 16.42423493, 19.27963355,\n",
       "       22.02772018, 17.24103113, 24.73755801, 19.63453935, 26.02321139,\n",
       "       24.31776749])"
      ]
     },
     "execution_count": 79,
     "metadata": {},
     "output_type": "execute_result"
    }
   ],
   "source": [
    "ransac.predict(inliers)"
   ]
  },
  {
   "cell_type": "code",
   "execution_count": 80,
   "metadata": {},
   "outputs": [
    {
     "data": {
      "text/plain": [
       "7.375684141447278"
      ]
     },
     "execution_count": 80,
     "metadata": {},
     "output_type": "execute_result"
    }
   ],
   "source": [
    "(np.abs(inlier_targets - ransac.predict(inliers)) / target).mean() * 100"
   ]
  },
  {
   "cell_type": "code",
   "execution_count": 81,
   "metadata": {},
   "outputs": [],
   "source": [
    "poly = PolynomialFeatures(degree=3)"
   ]
  },
  {
   "cell_type": "code",
   "execution_count": 82,
   "metadata": {},
   "outputs": [
    {
     "data": {
      "text/html": [
       "<style>#sk-container-id-9 {color: black;background-color: white;}#sk-container-id-9 pre{padding: 0;}#sk-container-id-9 div.sk-toggleable {background-color: white;}#sk-container-id-9 label.sk-toggleable__label {cursor: pointer;display: block;width: 100%;margin-bottom: 0;padding: 0.3em;box-sizing: border-box;text-align: center;}#sk-container-id-9 label.sk-toggleable__label-arrow:before {content: \"▸\";float: left;margin-right: 0.25em;color: #696969;}#sk-container-id-9 label.sk-toggleable__label-arrow:hover:before {color: black;}#sk-container-id-9 div.sk-estimator:hover label.sk-toggleable__label-arrow:before {color: black;}#sk-container-id-9 div.sk-toggleable__content {max-height: 0;max-width: 0;overflow: hidden;text-align: left;background-color: #f0f8ff;}#sk-container-id-9 div.sk-toggleable__content pre {margin: 0.2em;color: black;border-radius: 0.25em;background-color: #f0f8ff;}#sk-container-id-9 input.sk-toggleable__control:checked~div.sk-toggleable__content {max-height: 200px;max-width: 100%;overflow: auto;}#sk-container-id-9 input.sk-toggleable__control:checked~label.sk-toggleable__label-arrow:before {content: \"▾\";}#sk-container-id-9 div.sk-estimator input.sk-toggleable__control:checked~label.sk-toggleable__label {background-color: #d4ebff;}#sk-container-id-9 div.sk-label input.sk-toggleable__control:checked~label.sk-toggleable__label {background-color: #d4ebff;}#sk-container-id-9 input.sk-hidden--visually {border: 0;clip: rect(1px 1px 1px 1px);clip: rect(1px, 1px, 1px, 1px);height: 1px;margin: -1px;overflow: hidden;padding: 0;position: absolute;width: 1px;}#sk-container-id-9 div.sk-estimator {font-family: monospace;background-color: #f0f8ff;border: 1px dotted black;border-radius: 0.25em;box-sizing: border-box;margin-bottom: 0.5em;}#sk-container-id-9 div.sk-estimator:hover {background-color: #d4ebff;}#sk-container-id-9 div.sk-parallel-item::after {content: \"\";width: 100%;border-bottom: 1px solid gray;flex-grow: 1;}#sk-container-id-9 div.sk-label:hover label.sk-toggleable__label {background-color: #d4ebff;}#sk-container-id-9 div.sk-serial::before {content: \"\";position: absolute;border-left: 1px solid gray;box-sizing: border-box;top: 0;bottom: 0;left: 50%;z-index: 0;}#sk-container-id-9 div.sk-serial {display: flex;flex-direction: column;align-items: center;background-color: white;padding-right: 0.2em;padding-left: 0.2em;position: relative;}#sk-container-id-9 div.sk-item {position: relative;z-index: 1;}#sk-container-id-9 div.sk-parallel {display: flex;align-items: stretch;justify-content: center;background-color: white;position: relative;}#sk-container-id-9 div.sk-item::before, #sk-container-id-9 div.sk-parallel-item::before {content: \"\";position: absolute;border-left: 1px solid gray;box-sizing: border-box;top: 0;bottom: 0;left: 50%;z-index: -1;}#sk-container-id-9 div.sk-parallel-item {display: flex;flex-direction: column;z-index: 1;position: relative;background-color: white;}#sk-container-id-9 div.sk-parallel-item:first-child::after {align-self: flex-end;width: 50%;}#sk-container-id-9 div.sk-parallel-item:last-child::after {align-self: flex-start;width: 50%;}#sk-container-id-9 div.sk-parallel-item:only-child::after {width: 0;}#sk-container-id-9 div.sk-dashed-wrapped {border: 1px dashed gray;margin: 0 0.4em 0.5em 0.4em;box-sizing: border-box;padding-bottom: 0.4em;background-color: white;}#sk-container-id-9 div.sk-label label {font-family: monospace;font-weight: bold;display: inline-block;line-height: 1.2em;}#sk-container-id-9 div.sk-label-container {text-align: center;}#sk-container-id-9 div.sk-container {/* jupyter's `normalize.less` sets `[hidden] { display: none; }` but bootstrap.min.css set `[hidden] { display: none !important; }` so we also need the `!important` here to be able to override the default hidden behavior on the sphinx rendered scikit-learn.org. See: https://github.com/scikit-learn/scikit-learn/issues/21755 */display: inline-block !important;position: relative;}#sk-container-id-9 div.sk-text-repr-fallback {display: none;}</style><div id=\"sk-container-id-9\" class=\"sk-top-container\"><div class=\"sk-text-repr-fallback\"><pre>PolynomialFeatures(degree=3)</pre><b>In a Jupyter environment, please rerun this cell to show the HTML representation or trust the notebook. <br />On GitHub, the HTML representation is unable to render, please try loading this page with nbviewer.org.</b></div><div class=\"sk-container\" hidden><div class=\"sk-item\"><div class=\"sk-estimator sk-toggleable\"><input class=\"sk-toggleable__control sk-hidden--visually\" id=\"sk-estimator-id-9\" type=\"checkbox\" checked><label for=\"sk-estimator-id-9\" class=\"sk-toggleable__label sk-toggleable__label-arrow\">PolynomialFeatures</label><div class=\"sk-toggleable__content\"><pre>PolynomialFeatures(degree=3)</pre></div></div></div></div></div>"
      ],
      "text/plain": [
       "PolynomialFeatures(degree=3)"
      ]
     },
     "execution_count": 82,
     "metadata": {},
     "output_type": "execute_result"
    }
   ],
   "source": [
    "poly.fit(attributes)"
   ]
  },
  {
   "cell_type": "code",
   "execution_count": 83,
   "metadata": {},
   "outputs": [],
   "source": [
    "attributes_quadratic = poly.transform(attributes)"
   ]
  },
  {
   "cell_type": "code",
   "execution_count": 84,
   "metadata": {},
   "outputs": [
    {
     "data": {
      "text/plain": [
       "(506, 13)"
      ]
     },
     "execution_count": 84,
     "metadata": {},
     "output_type": "execute_result"
    }
   ],
   "source": [
    "attributes.shape"
   ]
  },
  {
   "cell_type": "code",
   "execution_count": 85,
   "metadata": {},
   "outputs": [
    {
     "data": {
      "text/html": [
       "<style>#sk-container-id-10 {color: black;background-color: white;}#sk-container-id-10 pre{padding: 0;}#sk-container-id-10 div.sk-toggleable {background-color: white;}#sk-container-id-10 label.sk-toggleable__label {cursor: pointer;display: block;width: 100%;margin-bottom: 0;padding: 0.3em;box-sizing: border-box;text-align: center;}#sk-container-id-10 label.sk-toggleable__label-arrow:before {content: \"▸\";float: left;margin-right: 0.25em;color: #696969;}#sk-container-id-10 label.sk-toggleable__label-arrow:hover:before {color: black;}#sk-container-id-10 div.sk-estimator:hover label.sk-toggleable__label-arrow:before {color: black;}#sk-container-id-10 div.sk-toggleable__content {max-height: 0;max-width: 0;overflow: hidden;text-align: left;background-color: #f0f8ff;}#sk-container-id-10 div.sk-toggleable__content pre {margin: 0.2em;color: black;border-radius: 0.25em;background-color: #f0f8ff;}#sk-container-id-10 input.sk-toggleable__control:checked~div.sk-toggleable__content {max-height: 200px;max-width: 100%;overflow: auto;}#sk-container-id-10 input.sk-toggleable__control:checked~label.sk-toggleable__label-arrow:before {content: \"▾\";}#sk-container-id-10 div.sk-estimator input.sk-toggleable__control:checked~label.sk-toggleable__label {background-color: #d4ebff;}#sk-container-id-10 div.sk-label input.sk-toggleable__control:checked~label.sk-toggleable__label {background-color: #d4ebff;}#sk-container-id-10 input.sk-hidden--visually {border: 0;clip: rect(1px 1px 1px 1px);clip: rect(1px, 1px, 1px, 1px);height: 1px;margin: -1px;overflow: hidden;padding: 0;position: absolute;width: 1px;}#sk-container-id-10 div.sk-estimator {font-family: monospace;background-color: #f0f8ff;border: 1px dotted black;border-radius: 0.25em;box-sizing: border-box;margin-bottom: 0.5em;}#sk-container-id-10 div.sk-estimator:hover {background-color: #d4ebff;}#sk-container-id-10 div.sk-parallel-item::after {content: \"\";width: 100%;border-bottom: 1px solid gray;flex-grow: 1;}#sk-container-id-10 div.sk-label:hover label.sk-toggleable__label {background-color: #d4ebff;}#sk-container-id-10 div.sk-serial::before {content: \"\";position: absolute;border-left: 1px solid gray;box-sizing: border-box;top: 0;bottom: 0;left: 50%;z-index: 0;}#sk-container-id-10 div.sk-serial {display: flex;flex-direction: column;align-items: center;background-color: white;padding-right: 0.2em;padding-left: 0.2em;position: relative;}#sk-container-id-10 div.sk-item {position: relative;z-index: 1;}#sk-container-id-10 div.sk-parallel {display: flex;align-items: stretch;justify-content: center;background-color: white;position: relative;}#sk-container-id-10 div.sk-item::before, #sk-container-id-10 div.sk-parallel-item::before {content: \"\";position: absolute;border-left: 1px solid gray;box-sizing: border-box;top: 0;bottom: 0;left: 50%;z-index: -1;}#sk-container-id-10 div.sk-parallel-item {display: flex;flex-direction: column;z-index: 1;position: relative;background-color: white;}#sk-container-id-10 div.sk-parallel-item:first-child::after {align-self: flex-end;width: 50%;}#sk-container-id-10 div.sk-parallel-item:last-child::after {align-self: flex-start;width: 50%;}#sk-container-id-10 div.sk-parallel-item:only-child::after {width: 0;}#sk-container-id-10 div.sk-dashed-wrapped {border: 1px dashed gray;margin: 0 0.4em 0.5em 0.4em;box-sizing: border-box;padding-bottom: 0.4em;background-color: white;}#sk-container-id-10 div.sk-label label {font-family: monospace;font-weight: bold;display: inline-block;line-height: 1.2em;}#sk-container-id-10 div.sk-label-container {text-align: center;}#sk-container-id-10 div.sk-container {/* jupyter's `normalize.less` sets `[hidden] { display: none; }` but bootstrap.min.css set `[hidden] { display: none !important; }` so we also need the `!important` here to be able to override the default hidden behavior on the sphinx rendered scikit-learn.org. See: https://github.com/scikit-learn/scikit-learn/issues/21755 */display: inline-block !important;position: relative;}#sk-container-id-10 div.sk-text-repr-fallback {display: none;}</style><div id=\"sk-container-id-10\" class=\"sk-top-container\"><div class=\"sk-text-repr-fallback\"><pre>LinearRegression()</pre><b>In a Jupyter environment, please rerun this cell to show the HTML representation or trust the notebook. <br />On GitHub, the HTML representation is unable to render, please try loading this page with nbviewer.org.</b></div><div class=\"sk-container\" hidden><div class=\"sk-item\"><div class=\"sk-estimator sk-toggleable\"><input class=\"sk-toggleable__control sk-hidden--visually\" id=\"sk-estimator-id-10\" type=\"checkbox\" checked><label for=\"sk-estimator-id-10\" class=\"sk-toggleable__label sk-toggleable__label-arrow\">LinearRegression</label><div class=\"sk-toggleable__content\"><pre>LinearRegression()</pre></div></div></div></div></div>"
      ],
      "text/plain": [
       "LinearRegression()"
      ]
     },
     "execution_count": 85,
     "metadata": {},
     "output_type": "execute_result"
    }
   ],
   "source": [
    "linear_regression.fit(attributes_quadratic, target)"
   ]
  },
  {
   "cell_type": "code",
   "execution_count": 86,
   "metadata": {},
   "outputs": [],
   "source": [
    "predictions = linear_regression.predict(attributes_quadratic)"
   ]
  },
  {
   "cell_type": "code",
   "execution_count": 87,
   "metadata": {},
   "outputs": [
    {
     "data": {
      "text/plain": [
       "0.8962006844876305"
      ]
     },
     "execution_count": 87,
     "metadata": {},
     "output_type": "execute_result"
    }
   ],
   "source": [
    "(np.abs(target - predictions) / target).mean() * 100"
   ]
  },
  {
   "cell_type": "code",
   "execution_count": 88,
   "metadata": {},
   "outputs": [
    {
     "data": {
      "text/plain": [
       "array([ 6.24419289e-02,  4.57212521e+05,  2.08119645e+05, -6.95739039e+05,\n",
       "       -8.45502690e+02,  9.82329168e+05,  1.34074260e+03, -1.18786561e+04,\n",
       "        9.30214620e+03,  2.12775581e+05,  4.95230711e+04,  8.88238277e+05,\n",
       "       -9.80957094e+02,  4.28467765e+04, -9.85433981e+03,  4.23146614e+05,\n",
       "        7.62882568e+04, -1.19313989e+03,  3.27041774e+05,  1.76160856e+04,\n",
       "       -7.59837608e+04,  2.49917998e+04, -7.81867185e+05, -3.36434175e+05,\n",
       "       -3.30163028e+05, -3.17252199e+05,  2.49226773e+04, -8.85447688e+04,\n",
       "       -2.76119688e+05, -3.80610074e+03, -1.29407330e+06, -8.35407370e+04,\n",
       "       -1.03396335e+05, -9.61068947e+04, -6.69720016e+05,  1.06557409e+05,\n",
       "       -9.30409345e+05,  5.27846487e+05,  1.24538198e+05,  8.41855012e+05,\n",
       "        1.90894396e+02, -1.21009520e+06, -5.94678732e+03, -2.85956719e+03,\n",
       "        7.64667221e+03, -3.16045963e+05,  1.54639312e+06,  1.53275593e+06,\n",
       "        1.27178326e+05, -5.09003898e+04, -8.45480890e+02,  1.23949295e+02,\n",
       "        2.12417133e+03, -8.26094712e+02, -4.96659229e+03,  9.17543310e+03,\n",
       "        9.01426325e+02,  4.10131224e+03, -1.07291864e+03, -3.76685085e+03,\n",
       "       -7.53755553e+05, -9.54373740e+03, -5.17345227e+03, -1.64457424e+04,\n",
       "       -2.72377859e+05,  5.49464402e+04, -2.26901833e+06, -4.91899575e+04,\n",
       "       -2.62747197e+04,  2.67812877e+03, -6.94885348e+02, -7.83135707e+03,\n",
       "       -6.14625182e+03, -7.38785643e+02,  3.23267590e+03,  2.10043302e+03,\n",
       "        3.59201461e+03, -3.56654278e+03, -9.35674430e+03,  2.53920980e+04,\n",
       "        9.34037541e+03,  8.18685873e+03,  1.70981903e+04, -9.61391688e+02,\n",
       "       -1.21656708e+04,  2.38041409e+04, -1.52316425e+02,  4.30968043e+03,\n",
       "       -4.83033560e+03, -1.47029739e+04,  2.34179253e+05, -2.14163331e+05,\n",
       "       -5.38350871e+05, -2.92872522e+04, -3.86292344e+04,  7.39333140e+04,\n",
       "       -3.92047507e+05, -4.47573889e+04,  1.48316185e+04, -1.05493791e+06,\n",
       "        7.83210530e+03, -1.29775243e+02,  3.80013879e+03, -4.55360467e+04,\n",
       "        4.34777315e+03,  2.33255218e+01, -6.96101954e+05,  1.16853332e+05,\n",
       "        5.99416703e+03, -1.88188046e+02, -5.34251396e+01,  7.04443265e+02,\n",
       "        2.84420785e+02, -1.21873606e+05, -2.57057879e+04,  1.16842617e+04,\n",
       "       -6.39774050e+01,  2.02302920e+01,  7.72273859e+04,  1.94311167e+05,\n",
       "        5.04538553e+02, -1.40733693e+06,  7.47363754e+04,  4.53029150e+05,\n",
       "       -4.71298289e+05,  3.74849918e+05,  6.81487616e+05,  5.21808402e+05,\n",
       "       -1.02345581e+06, -5.08266755e+04,  4.40768264e+04,  3.76627369e+03,\n",
       "       -3.75734062e+05, -4.73600510e+04,  7.87162112e+04, -1.54938686e+05,\n",
       "        7.52433555e+04,  5.44223858e+04,  1.40534919e+05, -1.58441693e+05,\n",
       "       -6.12080997e+04, -1.19314525e+03,  3.78853907e+02, -4.23044389e+03,\n",
       "        2.52133050e+03,  1.45053650e+03, -5.08415617e+03,  2.20160729e+03,\n",
       "       -2.54317051e+03, -4.98166210e+03, -3.44918242e+03,  3.57631281e+01,\n",
       "       -5.62575353e+02, -1.22430442e+03, -1.44600842e+02, -1.50989463e+05,\n",
       "        1.62609117e+05, -2.06287238e+05, -6.10603547e+01,  9.13211324e+02,\n",
       "        7.96132660e+01,  4.66571657e+02,  1.04145259e+03,  1.82130824e+04,\n",
       "        1.98360287e+04, -1.61154422e+04, -2.09101164e+02,  1.69877105e+02,\n",
       "        2.39214597e+01, -1.50210526e+03,  4.14563662e+04, -3.80508736e+04,\n",
       "        5.16294699e+04,  1.73925076e+02,  4.08699766e+02, -4.23051324e+03,\n",
       "        7.42351692e+04,  8.83923085e+04, -4.26399563e+04, -1.87563832e+02,\n",
       "       -1.81419314e+03,  3.48094725e+04,  1.42638998e+05,  2.46376217e+04,\n",
       "        6.48915860e+05,  3.20598024e+04,  1.64833144e+04,  8.64979470e+04,\n",
       "        9.78265794e+04,  2.28234336e+04,  1.67570969e+05,  6.47360559e+04,\n",
       "       -2.54208748e+04,  3.94288495e-02, -1.44993587e+02, -1.07874558e+02,\n",
       "       -1.01444654e+05, -6.12287616e+05, -3.41056757e+04, -4.89685536e+05,\n",
       "        9.14860693e+03, -4.80859529e+03,  1.47805427e+05,  3.07450220e+05,\n",
       "       -2.43974482e+05,  1.11577038e+04,  1.43453062e+05,  1.04540283e+04,\n",
       "       -1.27544234e+05,  9.30530183e+03, -4.31077026e+06,  2.90172423e+04,\n",
       "       -1.93630750e+02,  3.97476475e+05,  1.89222338e+06, -2.27113062e+05,\n",
       "        6.45314543e+03,  9.87230004e+04,  2.21963427e+04, -3.80611330e+03,\n",
       "        5.11192614e+03, -7.53046978e+03,  1.47246196e+04, -1.84056131e+04,\n",
       "        2.62604137e+04,  5.15274269e+03,  2.01041399e+04, -3.93626046e+03,\n",
       "       -2.22990150e+03,  5.41242055e+05,  3.32750997e+03,  1.31031223e+04,\n",
       "        7.05080836e+04,  1.22856285e+06, -8.11396824e+05,  2.90800998e+06,\n",
       "        2.78516265e+05,  8.41692512e+04, -1.78185604e+04,  2.87570637e+04,\n",
       "        2.35034652e+04,  2.12392493e+03, -1.81325388e+04, -5.89248166e+03,\n",
       "        8.95305113e+04, -7.30530744e+04, -3.82985276e+03,  3.97800947e+03,\n",
       "        3.97452479e+03,  2.92980032e+04, -5.79517892e+03,  8.02548837e+04,\n",
       "        2.66560512e+04, -1.50766595e+03,  2.96503440e+04, -4.42792214e+04,\n",
       "        2.80859281e+04, -3.71143818e+04,  2.68465559e+03, -1.16158909e+05,\n",
       "        1.00561066e+05,  3.06691078e+05,  6.73815000e+03, -1.35073306e+04,\n",
       "        8.49171432e+05, -2.16499726e+05, -1.83380657e+05, -3.54950531e+04,\n",
       "        5.06837945e+05,  1.14929492e+05, -2.12136232e+04, -3.48621326e+05,\n",
       "       -7.44900071e+04, -2.60342269e+04,  9.83804221e+05, -1.93129690e+02,\n",
       "       -3.19199481e+06, -7.84320676e+02, -1.47828067e+03, -1.89773035e+04,\n",
       "       -2.23057881e+06, -3.11295887e+05, -1.14971798e+05, -5.14780711e+04,\n",
       "        1.42034134e+03,  1.90900774e+02,  1.62668119e+03,  4.31758315e+02,\n",
       "       -5.27207694e+03, -5.22907651e+02, -3.98123552e+03,  1.69503076e+03,\n",
       "       -4.96871754e+03,  2.25424084e+03,  8.02489501e+02,  1.38489878e+06,\n",
       "        1.90643076e+04,  1.22028361e+04, -4.92600285e+01,  4.66828174e+06,\n",
       "        1.83110412e+06,  2.65921811e+05,  7.26170923e+04,  4.10147414e+04,\n",
       "       -3.48990559e+03,  6.91826717e+03,  2.29983973e+04, -1.02112512e+04,\n",
       "        1.21441962e+04, -1.23883123e+04, -9.85034819e+02,  5.28334420e+03,\n",
       "        3.27187316e+03,  1.13795409e+04,  3.84853981e+03, -1.26215785e+04,\n",
       "       -8.04417755e+03, -6.17771778e+03,  3.69129297e+03, -4.51566870e+03,\n",
       "       -1.02727471e+04,  1.55069567e+04, -4.38998032e+03, -6.91054879e+03,\n",
       "        3.62308204e+04,  6.11823601e+05, -3.45295544e+05, -9.92074687e+03,\n",
       "       -1.22016663e+05, -1.20878617e+04, -3.09846351e+05, -1.66480367e+06,\n",
       "        8.39400051e+04,  1.95188829e+04, -8.76913471e+05, -7.47759917e+04,\n",
       "       -2.42479729e+04, -1.89728800e+04,  3.39187091e+04,  4.50027363e+03,\n",
       "       -8.45482110e+02,  1.23953486e+02,  2.12417087e+03, -8.26094138e+02,\n",
       "       -4.96659097e+03,  9.17543707e+03,  9.01425369e+02,  4.10131192e+03,\n",
       "       -1.07292172e+03, -3.76684896e+03,  3.12286307e+03,  3.68966621e+02,\n",
       "       -2.08730556e+03,  1.71881081e+03, -4.92121319e+03,  3.99489159e+03,\n",
       "       -2.05432608e+03, -2.08462956e+03, -2.92124738e+03, -4.37723889e+03,\n",
       "        2.06447717e+02, -2.31390322e+03,  3.35668681e+03, -6.15104372e+03,\n",
       "        6.21069772e+03,  1.62024377e+03, -5.14590788e+03,  1.70456320e+03,\n",
       "        3.88173595e+03, -3.10556799e+03,  4.40468540e+03, -6.44852262e+03,\n",
       "        5.13194696e+02,  9.70012514e+03, -6.20328458e+03,  1.22777474e+04,\n",
       "        4.53641796e+03,  9.13214804e+03, -6.33811633e+03,  1.17238120e+03,\n",
       "       -1.89557482e+04, -4.27324061e+03, -7.64617745e+03,  9.77954210e+03,\n",
       "        4.40975379e+03,  1.05884229e+03, -2.32147199e+03,  3.97095521e+02,\n",
       "        1.42503818e+03, -1.61880097e+03,  1.30532779e+03, -1.64986198e+03,\n",
       "       -1.22068427e+03, -4.77704058e+03,  7.92509763e+03, -1.30377948e+03,\n",
       "        3.66063332e+03, -1.08492111e+03, -4.87851916e+03, -1.99801805e+04,\n",
       "       -3.87617243e+05,  2.75254109e+05,  6.62421191e+02,  1.62684069e+03,\n",
       "       -6.56474814e+02, -5.17738888e+02,  3.00316676e+03, -5.56048216e+03,\n",
       "       -1.96197623e+04,  1.80193996e+04, -8.09244226e+02,  4.44231657e+02,\n",
       "        1.38941506e+03,  5.20580964e+03, -9.05188165e+03, -6.00789856e+03,\n",
       "        6.72001400e+03, -4.47714760e+02,  2.29767654e+02,  2.97661259e+02,\n",
       "        7.85811601e+03,  1.67629834e+04, -2.98267472e+03, -4.88350074e+02,\n",
       "        1.33098407e+03,  1.69641285e+05, -2.55149031e+06, -4.87736974e+05,\n",
       "        2.16907560e+04,  4.65248557e+03, -1.01417688e+06,  2.03127011e+06,\n",
       "       -7.82754491e+04, -3.14926496e+04,  1.53750182e+06,  7.99033131e+04,\n",
       "        2.87877974e+04,  4.81548706e+01,  7.92735038e+00,  3.45135248e+02,\n",
       "       -6.97007444e+01, -3.56761851e+02,  2.55574360e+03,  2.34241242e+03,\n",
       "        5.69811244e+03, -7.88630879e+03, -7.93956578e+01,  7.20479999e+02,\n",
       "        2.78245767e+02, -2.73271853e+03,  2.22413027e+03, -4.06872288e+03,\n",
       "        8.99602181e+02, -9.37928682e+02, -2.37954059e+03, -1.02552166e+03,\n",
       "        4.70826283e+03, -1.58965274e+04,  1.86003845e+03, -3.11175468e+01,\n",
       "        3.05443301e+03, -2.81231889e+03,  1.57490867e+04,  7.11579545e+03,\n",
       "       -1.44433480e+03, -3.23822960e+03, -6.02721359e+03,  4.00550003e+03,\n",
       "       -3.59776526e+02,  6.31740953e+02, -1.13339642e+03,  9.58957502e+02,\n",
       "       -7.13182530e+03,  2.12244664e+02,  2.32019434e+02,  3.63413131e+02,\n",
       "        1.74110113e+02,  1.09336372e+03, -1.11276187e+02, -1.81874242e+03,\n",
       "        9.08758222e+02,  9.47789994e+02,  9.42818358e+02,  4.15304089e+03,\n",
       "       -1.10428853e+04, -5.53937595e+03,  7.64391838e+03,  1.85821963e+03,\n",
       "        7.47227283e+02, -6.03701991e+02, -7.88794311e+03,  4.25325761e+03,\n",
       "       -2.30675695e+04,  3.36587484e+03,  8.25483556e+03,  2.94834048e+02,\n",
       "        2.59432786e+03, -2.30258619e+03, -5.46941137e+03, -7.84602879e+03,\n",
       "       -1.22011882e+03, -2.93098907e+02, -5.53158515e+02, -6.69093213e+02,\n",
       "        3.93277922e+03, -2.01335715e+04,  1.11490113e+04,  9.32592913e+03,\n",
       "        3.53295838e+03,  3.04003290e+02, -7.99667085e+03, -1.59000100e+04,\n",
       "       -1.68471056e+04,  1.72959945e+04,  9.20565006e+03,  7.67948847e+03,\n",
       "       -2.05886826e+04,  6.67441171e+03, -1.87033397e+04,  5.47710833e+03,\n",
       "       -8.29041480e+03,  3.41991269e+03, -4.26018264e+02,  8.89032323e+02,\n",
       "       -1.36348277e+03, -2.29889015e+05, -8.95676935e+04,  2.49637335e+04,\n",
       "       -1.91084483e+04, -6.91555311e+03,  5.59000796e+05,  3.16641307e+05,\n",
       "        6.54425711e+04,  2.15873967e+04,  3.54866451e+05,  2.50698037e+04,\n",
       "       -1.24582201e+03,  1.27567869e+04,  4.35356535e+04, -8.52066615e+03,\n",
       "       -1.34746463e+05,  2.59601138e+05, -5.17731858e+04, -9.26516320e+03,\n",
       "       -1.64590171e+04,  4.96574336e+04,  1.22583506e+04,  8.92749917e+03,\n",
       "       -1.47780753e+04, -1.95413073e+03,  3.87664343e+05, -2.07161383e+04,\n",
       "       -1.57376892e+04, -6.17878863e+03,  2.27529100e+04, -9.91559465e+02,\n",
       "       -1.19475396e+01,  1.39236891e+02,  2.10287678e+02, -3.70332396e+02])"
      ]
     },
     "execution_count": 88,
     "metadata": {},
     "output_type": "execute_result"
    }
   ],
   "source": [
    "linear_regression.coef_"
   ]
  },
  {
   "cell_type": "code",
   "execution_count": 89,
   "metadata": {},
   "outputs": [
    {
     "data": {
      "text/plain": [
       "array(['x0', 'x1', 'x2', 'x3', 'x4', 'x5', 'x6', 'x7', 'x8', 'x9', 'x10',\n",
       "       'x11', 'x12', 'x0^2', 'x0 x1', 'x0 x2', 'x0 x3', 'x0 x4', 'x0 x5',\n",
       "       'x0 x6', 'x0 x7', 'x0 x8', 'x0 x9', 'x0 x10', 'x0 x11', 'x0 x12',\n",
       "       'x1^2', 'x1 x2', 'x1 x3', 'x1 x4', 'x1 x5', 'x1 x6', 'x1 x7',\n",
       "       'x1 x8', 'x1 x9', 'x1 x10', 'x1 x11', 'x1 x12', 'x2^2', 'x2 x3',\n",
       "       'x2 x4', 'x2 x5', 'x2 x6', 'x2 x7', 'x2 x8', 'x2 x9', 'x2 x10',\n",
       "       'x2 x11', 'x2 x12', 'x3^2', 'x3 x4', 'x3 x5', 'x3 x6', 'x3 x7',\n",
       "       'x3 x8', 'x3 x9', 'x3 x10', 'x3 x11', 'x3 x12', 'x4^2', 'x4 x5',\n",
       "       'x4 x6', 'x4 x7', 'x4 x8', 'x4 x9', 'x4 x10', 'x4 x11', 'x4 x12',\n",
       "       'x5^2', 'x5 x6', 'x5 x7', 'x5 x8', 'x5 x9', 'x5 x10', 'x5 x11',\n",
       "       'x5 x12', 'x6^2', 'x6 x7', 'x6 x8', 'x6 x9', 'x6 x10', 'x6 x11',\n",
       "       'x6 x12', 'x7^2', 'x7 x8', 'x7 x9', 'x7 x10', 'x7 x11', 'x7 x12',\n",
       "       'x8^2', 'x8 x9', 'x8 x10', 'x8 x11', 'x8 x12', 'x9^2', 'x9 x10',\n",
       "       'x9 x11', 'x9 x12', 'x10^2', 'x10 x11', 'x10 x12', 'x11^2',\n",
       "       'x11 x12', 'x12^2', 'x0^3', 'x0^2 x1', 'x0^2 x2', 'x0^2 x3',\n",
       "       'x0^2 x4', 'x0^2 x5', 'x0^2 x6', 'x0^2 x7', 'x0^2 x8', 'x0^2 x9',\n",
       "       'x0^2 x10', 'x0^2 x11', 'x0^2 x12', 'x0 x1^2', 'x0 x1 x2',\n",
       "       'x0 x1 x3', 'x0 x1 x4', 'x0 x1 x5', 'x0 x1 x6', 'x0 x1 x7',\n",
       "       'x0 x1 x8', 'x0 x1 x9', 'x0 x1 x10', 'x0 x1 x11', 'x0 x1 x12',\n",
       "       'x0 x2^2', 'x0 x2 x3', 'x0 x2 x4', 'x0 x2 x5', 'x0 x2 x6',\n",
       "       'x0 x2 x7', 'x0 x2 x8', 'x0 x2 x9', 'x0 x2 x10', 'x0 x2 x11',\n",
       "       'x0 x2 x12', 'x0 x3^2', 'x0 x3 x4', 'x0 x3 x5', 'x0 x3 x6',\n",
       "       'x0 x3 x7', 'x0 x3 x8', 'x0 x3 x9', 'x0 x3 x10', 'x0 x3 x11',\n",
       "       'x0 x3 x12', 'x0 x4^2', 'x0 x4 x5', 'x0 x4 x6', 'x0 x4 x7',\n",
       "       'x0 x4 x8', 'x0 x4 x9', 'x0 x4 x10', 'x0 x4 x11', 'x0 x4 x12',\n",
       "       'x0 x5^2', 'x0 x5 x6', 'x0 x5 x7', 'x0 x5 x8', 'x0 x5 x9',\n",
       "       'x0 x5 x10', 'x0 x5 x11', 'x0 x5 x12', 'x0 x6^2', 'x0 x6 x7',\n",
       "       'x0 x6 x8', 'x0 x6 x9', 'x0 x6 x10', 'x0 x6 x11', 'x0 x6 x12',\n",
       "       'x0 x7^2', 'x0 x7 x8', 'x0 x7 x9', 'x0 x7 x10', 'x0 x7 x11',\n",
       "       'x0 x7 x12', 'x0 x8^2', 'x0 x8 x9', 'x0 x8 x10', 'x0 x8 x11',\n",
       "       'x0 x8 x12', 'x0 x9^2', 'x0 x9 x10', 'x0 x9 x11', 'x0 x9 x12',\n",
       "       'x0 x10^2', 'x0 x10 x11', 'x0 x10 x12', 'x0 x11^2', 'x0 x11 x12',\n",
       "       'x0 x12^2', 'x1^3', 'x1^2 x2', 'x1^2 x3', 'x1^2 x4', 'x1^2 x5',\n",
       "       'x1^2 x6', 'x1^2 x7', 'x1^2 x8', 'x1^2 x9', 'x1^2 x10', 'x1^2 x11',\n",
       "       'x1^2 x12', 'x1 x2^2', 'x1 x2 x3', 'x1 x2 x4', 'x1 x2 x5',\n",
       "       'x1 x2 x6', 'x1 x2 x7', 'x1 x2 x8', 'x1 x2 x9', 'x1 x2 x10',\n",
       "       'x1 x2 x11', 'x1 x2 x12', 'x1 x3^2', 'x1 x3 x4', 'x1 x3 x5',\n",
       "       'x1 x3 x6', 'x1 x3 x7', 'x1 x3 x8', 'x1 x3 x9', 'x1 x3 x10',\n",
       "       'x1 x3 x11', 'x1 x3 x12', 'x1 x4^2', 'x1 x4 x5', 'x1 x4 x6',\n",
       "       'x1 x4 x7', 'x1 x4 x8', 'x1 x4 x9', 'x1 x4 x10', 'x1 x4 x11',\n",
       "       'x1 x4 x12', 'x1 x5^2', 'x1 x5 x6', 'x1 x5 x7', 'x1 x5 x8',\n",
       "       'x1 x5 x9', 'x1 x5 x10', 'x1 x5 x11', 'x1 x5 x12', 'x1 x6^2',\n",
       "       'x1 x6 x7', 'x1 x6 x8', 'x1 x6 x9', 'x1 x6 x10', 'x1 x6 x11',\n",
       "       'x1 x6 x12', 'x1 x7^2', 'x1 x7 x8', 'x1 x7 x9', 'x1 x7 x10',\n",
       "       'x1 x7 x11', 'x1 x7 x12', 'x1 x8^2', 'x1 x8 x9', 'x1 x8 x10',\n",
       "       'x1 x8 x11', 'x1 x8 x12', 'x1 x9^2', 'x1 x9 x10', 'x1 x9 x11',\n",
       "       'x1 x9 x12', 'x1 x10^2', 'x1 x10 x11', 'x1 x10 x12', 'x1 x11^2',\n",
       "       'x1 x11 x12', 'x1 x12^2', 'x2^3', 'x2^2 x3', 'x2^2 x4', 'x2^2 x5',\n",
       "       'x2^2 x6', 'x2^2 x7', 'x2^2 x8', 'x2^2 x9', 'x2^2 x10', 'x2^2 x11',\n",
       "       'x2^2 x12', 'x2 x3^2', 'x2 x3 x4', 'x2 x3 x5', 'x2 x3 x6',\n",
       "       'x2 x3 x7', 'x2 x3 x8', 'x2 x3 x9', 'x2 x3 x10', 'x2 x3 x11',\n",
       "       'x2 x3 x12', 'x2 x4^2', 'x2 x4 x5', 'x2 x4 x6', 'x2 x4 x7',\n",
       "       'x2 x4 x8', 'x2 x4 x9', 'x2 x4 x10', 'x2 x4 x11', 'x2 x4 x12',\n",
       "       'x2 x5^2', 'x2 x5 x6', 'x2 x5 x7', 'x2 x5 x8', 'x2 x5 x9',\n",
       "       'x2 x5 x10', 'x2 x5 x11', 'x2 x5 x12', 'x2 x6^2', 'x2 x6 x7',\n",
       "       'x2 x6 x8', 'x2 x6 x9', 'x2 x6 x10', 'x2 x6 x11', 'x2 x6 x12',\n",
       "       'x2 x7^2', 'x2 x7 x8', 'x2 x7 x9', 'x2 x7 x10', 'x2 x7 x11',\n",
       "       'x2 x7 x12', 'x2 x8^2', 'x2 x8 x9', 'x2 x8 x10', 'x2 x8 x11',\n",
       "       'x2 x8 x12', 'x2 x9^2', 'x2 x9 x10', 'x2 x9 x11', 'x2 x9 x12',\n",
       "       'x2 x10^2', 'x2 x10 x11', 'x2 x10 x12', 'x2 x11^2', 'x2 x11 x12',\n",
       "       'x2 x12^2', 'x3^3', 'x3^2 x4', 'x3^2 x5', 'x3^2 x6', 'x3^2 x7',\n",
       "       'x3^2 x8', 'x3^2 x9', 'x3^2 x10', 'x3^2 x11', 'x3^2 x12',\n",
       "       'x3 x4^2', 'x3 x4 x5', 'x3 x4 x6', 'x3 x4 x7', 'x3 x4 x8',\n",
       "       'x3 x4 x9', 'x3 x4 x10', 'x3 x4 x11', 'x3 x4 x12', 'x3 x5^2',\n",
       "       'x3 x5 x6', 'x3 x5 x7', 'x3 x5 x8', 'x3 x5 x9', 'x3 x5 x10',\n",
       "       'x3 x5 x11', 'x3 x5 x12', 'x3 x6^2', 'x3 x6 x7', 'x3 x6 x8',\n",
       "       'x3 x6 x9', 'x3 x6 x10', 'x3 x6 x11', 'x3 x6 x12', 'x3 x7^2',\n",
       "       'x3 x7 x8', 'x3 x7 x9', 'x3 x7 x10', 'x3 x7 x11', 'x3 x7 x12',\n",
       "       'x3 x8^2', 'x3 x8 x9', 'x3 x8 x10', 'x3 x8 x11', 'x3 x8 x12',\n",
       "       'x3 x9^2', 'x3 x9 x10', 'x3 x9 x11', 'x3 x9 x12', 'x3 x10^2',\n",
       "       'x3 x10 x11', 'x3 x10 x12', 'x3 x11^2', 'x3 x11 x12', 'x3 x12^2',\n",
       "       'x4^3', 'x4^2 x5', 'x4^2 x6', 'x4^2 x7', 'x4^2 x8', 'x4^2 x9',\n",
       "       'x4^2 x10', 'x4^2 x11', 'x4^2 x12', 'x4 x5^2', 'x4 x5 x6',\n",
       "       'x4 x5 x7', 'x4 x5 x8', 'x4 x5 x9', 'x4 x5 x10', 'x4 x5 x11',\n",
       "       'x4 x5 x12', 'x4 x6^2', 'x4 x6 x7', 'x4 x6 x8', 'x4 x6 x9',\n",
       "       'x4 x6 x10', 'x4 x6 x11', 'x4 x6 x12', 'x4 x7^2', 'x4 x7 x8',\n",
       "       'x4 x7 x9', 'x4 x7 x10', 'x4 x7 x11', 'x4 x7 x12', 'x4 x8^2',\n",
       "       'x4 x8 x9', 'x4 x8 x10', 'x4 x8 x11', 'x4 x8 x12', 'x4 x9^2',\n",
       "       'x4 x9 x10', 'x4 x9 x11', 'x4 x9 x12', 'x4 x10^2', 'x4 x10 x11',\n",
       "       'x4 x10 x12', 'x4 x11^2', 'x4 x11 x12', 'x4 x12^2', 'x5^3',\n",
       "       'x5^2 x6', 'x5^2 x7', 'x5^2 x8', 'x5^2 x9', 'x5^2 x10', 'x5^2 x11',\n",
       "       'x5^2 x12', 'x5 x6^2', 'x5 x6 x7', 'x5 x6 x8', 'x5 x6 x9',\n",
       "       'x5 x6 x10', 'x5 x6 x11', 'x5 x6 x12', 'x5 x7^2', 'x5 x7 x8',\n",
       "       'x5 x7 x9', 'x5 x7 x10', 'x5 x7 x11', 'x5 x7 x12', 'x5 x8^2',\n",
       "       'x5 x8 x9', 'x5 x8 x10', 'x5 x8 x11', 'x5 x8 x12', 'x5 x9^2',\n",
       "       'x5 x9 x10', 'x5 x9 x11', 'x5 x9 x12', 'x5 x10^2', 'x5 x10 x11',\n",
       "       'x5 x10 x12', 'x5 x11^2', 'x5 x11 x12', 'x5 x12^2', 'x6^3',\n",
       "       'x6^2 x7', 'x6^2 x8', 'x6^2 x9', 'x6^2 x10', 'x6^2 x11',\n",
       "       'x6^2 x12', 'x6 x7^2', 'x6 x7 x8', 'x6 x7 x9', 'x6 x7 x10',\n",
       "       'x6 x7 x11', 'x6 x7 x12', 'x6 x8^2', 'x6 x8 x9', 'x6 x8 x10',\n",
       "       'x6 x8 x11', 'x6 x8 x12', 'x6 x9^2', 'x6 x9 x10', 'x6 x9 x11',\n",
       "       'x6 x9 x12', 'x6 x10^2', 'x6 x10 x11', 'x6 x10 x12', 'x6 x11^2',\n",
       "       'x6 x11 x12', 'x6 x12^2', 'x7^3', 'x7^2 x8', 'x7^2 x9', 'x7^2 x10',\n",
       "       'x7^2 x11', 'x7^2 x12', 'x7 x8^2', 'x7 x8 x9', 'x7 x8 x10',\n",
       "       'x7 x8 x11', 'x7 x8 x12', 'x7 x9^2', 'x7 x9 x10', 'x7 x9 x11',\n",
       "       'x7 x9 x12', 'x7 x10^2', 'x7 x10 x11', 'x7 x10 x12', 'x7 x11^2',\n",
       "       'x7 x11 x12', 'x7 x12^2', 'x8^3', 'x8^2 x9', 'x8^2 x10',\n",
       "       'x8^2 x11', 'x8^2 x12', 'x8 x9^2', 'x8 x9 x10', 'x8 x9 x11',\n",
       "       'x8 x9 x12', 'x8 x10^2', 'x8 x10 x11', 'x8 x10 x12', 'x8 x11^2',\n",
       "       'x8 x11 x12', 'x8 x12^2', 'x9^3', 'x9^2 x10', 'x9^2 x11',\n",
       "       'x9^2 x12', 'x9 x10^2', 'x9 x10 x11', 'x9 x10 x12', 'x9 x11^2',\n",
       "       'x9 x11 x12', 'x9 x12^2', 'x10^3', 'x10^2 x11', 'x10^2 x12',\n",
       "       'x10 x11^2', 'x10 x11 x12', 'x10 x12^2', 'x11^3', 'x11^2 x12',\n",
       "       'x11 x12^2', 'x12^3'], dtype=object)"
      ]
     },
     "execution_count": 89,
     "metadata": {},
     "output_type": "execute_result"
    }
   ],
   "source": [
    "poly.get_feature_names_out()[1:]"
   ]
  },
  {
   "cell_type": "code",
   "execution_count": 90,
   "metadata": {},
   "outputs": [
    {
     "data": {
      "text/plain": [
       "[('x0', 0.0624419289091962),\n",
       " ('x1', 457212.5211858161),\n",
       " ('x2', 208119.6451113981),\n",
       " ('x3', -695739.0389053643),\n",
       " ('x4', -845.5026898473781),\n",
       " ('x5', 982329.1678379091),\n",
       " ('x6', 1340.7425966773358),\n",
       " ('x7', -11878.656062740654),\n",
       " ('x8', 9302.146198736054),\n",
       " ('x9', 212775.58079052484),\n",
       " ('x10', 49523.071139679516),\n",
       " ('x11', 888238.2769140187),\n",
       " ('x12', -980.9570942347297),\n",
       " ('x0^2', 42846.776474095066),\n",
       " ('x0 x1', -9854.339813590797),\n",
       " ('x0 x2', 423146.61393558275),\n",
       " ('x0 x3', 76288.25680362964),\n",
       " ('x0 x4', -1193.1398891100023),\n",
       " ('x0 x5', 327041.7744341802),\n",
       " ('x0 x6', 17616.085586208188),\n",
       " ('x0 x7', -75983.76081421017),\n",
       " ('x0 x8', 24991.799802624035),\n",
       " ('x0 x9', -781867.1854162416),\n",
       " ('x0 x10', -336434.17524320225),\n",
       " ('x0 x11', -330163.02823454107),\n",
       " ('x0 x12', -317252.19895295135),\n",
       " ('x1^2', 24922.677335437762),\n",
       " ('x1 x2', -88544.76884485908),\n",
       " ('x1 x3', -276119.6879977949),\n",
       " ('x1 x4', -3806.1007373597063),\n",
       " ('x1 x5', -1294073.2956193986),\n",
       " ('x1 x6', -83540.73702236018),\n",
       " ('x1 x7', -103396.33489714074),\n",
       " ('x1 x8', -96106.89467718803),\n",
       " ('x1 x9', -669720.0162183731),\n",
       " ('x1 x10', 106557.40883976589),\n",
       " ('x1 x11', -930409.3449235896),\n",
       " ('x1 x12', 527846.4865984194),\n",
       " ('x2^2', 124538.19806880978),\n",
       " ('x2 x3', 841855.0123683166),\n",
       " ('x2 x4', 190.89439619419863),\n",
       " ('x2 x5', -1210095.1995951561),\n",
       " ('x2 x6', -5946.78731875385),\n",
       " ('x2 x7', -2859.567193762341),\n",
       " ('x2 x8', 7646.672212982907),\n",
       " ('x2 x9', -316045.96259918704),\n",
       " ('x2 x10', 1546393.115243437),\n",
       " ('x2 x11', 1532755.9347975622),\n",
       " ('x2 x12', 127178.32611936497),\n",
       " ('x3^2', -50900.38977293725),\n",
       " ('x3 x4', -845.4808898149058),\n",
       " ('x3 x5', 123.94929515471449),\n",
       " ('x3 x6', 2124.1713335906097),\n",
       " ('x3 x7', -826.0947123242513),\n",
       " ('x3 x8', -4966.592285217481),\n",
       " ('x3 x9', 9175.43309972022),\n",
       " ('x3 x10', 901.4263249259093),\n",
       " ('x3 x11', 4101.312240817584),\n",
       " ('x3 x12', -1072.918637040886),\n",
       " ('x4^2', -3766.8508474923256),\n",
       " ('x4 x5', -753755.5529637256),\n",
       " ('x4 x6', -9543.737401123612),\n",
       " ('x4 x7', -5173.452269974077),\n",
       " ('x4 x8', -16445.74239467893),\n",
       " ('x4 x9', -272377.85872862255),\n",
       " ('x4 x10', 54946.44022522175),\n",
       " ('x4 x11', -2269018.3290415173),\n",
       " ('x4 x12', -49189.95747179714),\n",
       " ('x5^2', -26274.719680357157),\n",
       " ('x5 x6', 2678.1287691025645),\n",
       " ('x5 x7', -694.8853475937503),\n",
       " ('x5 x8', -7831.357072129089),\n",
       " ('x5 x9', -6146.251824979554),\n",
       " ('x5 x10', -738.7856431810142),\n",
       " ('x5 x11', 3232.675902381401),\n",
       " ('x5 x12', 2100.4330222607823),\n",
       " ('x6^2', 3592.0146050169933),\n",
       " ('x6 x7', -3566.542776096263),\n",
       " ('x6 x8', -9356.744299760234),\n",
       " ('x6 x9', 25392.097984815213),\n",
       " ('x6 x10', 9340.375410661509),\n",
       " ('x6 x11', 8186.858729845815),\n",
       " ('x6 x12', 17098.190306671466),\n",
       " ('x7^2', -961.3916878531745),\n",
       " ('x7 x8', -12165.670809592426),\n",
       " ('x7 x9', 23804.140887689544),\n",
       " ('x7 x10', -152.31642488818034),\n",
       " ('x7 x11', 4309.680428136158),\n",
       " ('x7 x12', -4830.335604105967),\n",
       " ('x8^2', -14702.97394015122),\n",
       " ('x8 x9', 234179.2529636859),\n",
       " ('x8 x10', -214163.33129495787),\n",
       " ('x8 x11', -538350.8711411826),\n",
       " ('x8 x12', -29287.25216937522),\n",
       " ('x9^2', -38629.23436697843),\n",
       " ('x9 x10', 73933.3140370147),\n",
       " ('x9 x11', -392047.50686900486),\n",
       " ('x9 x12', -44757.38887195435),\n",
       " ('x10^2', 14831.618490344365),\n",
       " ('x10 x11', -1054937.9120835469),\n",
       " ('x10 x12', 7832.105299563642),\n",
       " ('x11^2', -129.77524337817886),\n",
       " ('x11 x12', 3800.138789208533),\n",
       " ('x12^2', -45536.04670284825),\n",
       " ('x0^3', 4347.773153819464),\n",
       " ('x0^2 x1', 23.32552175957244),\n",
       " ('x0^2 x2', -696101.9536226117),\n",
       " ('x0^2 x3', 116853.33171321933),\n",
       " ('x0^2 x4', 5994.167034510843),\n",
       " ('x0^2 x5', -188.1880458164669),\n",
       " ('x0^2 x6', -53.425139610946644),\n",
       " ('x0^2 x7', 704.4432650592062),\n",
       " ('x0^2 x8', 284.4207852685031),\n",
       " ('x0^2 x9', -121873.60569401692),\n",
       " ('x0^2 x10', -25705.787896241935),\n",
       " ('x0^2 x11', 11684.261653076159),\n",
       " ('x0^2 x12', -63.97740501699445),\n",
       " ('x0 x1^2', 20.230292022548383),\n",
       " ('x0 x1 x2', 77227.3858996367),\n",
       " ('x0 x1 x3', 194311.1672892615),\n",
       " ('x0 x1 x4', 504.5385525171116),\n",
       " ('x0 x1 x5', -1407336.9337080615),\n",
       " ('x0 x1 x6', 74736.3753570606),\n",
       " ('x0 x1 x7', 453029.14998224145),\n",
       " ('x0 x1 x8', -471298.28941172705),\n",
       " ('x0 x1 x9', 374849.918420403),\n",
       " ('x0 x1 x10', 681487.6157303061),\n",
       " ('x0 x1 x11', 521808.40190658934),\n",
       " ('x0 x1 x12', -1023455.8128087095),\n",
       " ('x0 x2^2', -50826.67549765221),\n",
       " ('x0 x2 x3', 44076.826353145276),\n",
       " ('x0 x2 x4', 3766.273689826394),\n",
       " ('x0 x2 x5', -375734.0620011147),\n",
       " ('x0 x2 x6', -47360.051047841975),\n",
       " ('x0 x2 x7', 78716.21122624735),\n",
       " ('x0 x2 x8', -154938.68592701937),\n",
       " ('x0 x2 x9', 75243.35549114956),\n",
       " ('x0 x2 x10', 54422.38584819134),\n",
       " ('x0 x2 x11', 140534.91913333198),\n",
       " ('x0 x2 x12', -158441.69346152007),\n",
       " ('x0 x3^2', -61208.099665349015),\n",
       " ('x0 x3 x4', -1193.145248091023),\n",
       " ('x0 x3 x5', 378.85390690540225),\n",
       " ('x0 x3 x6', -4230.443894704651),\n",
       " ('x0 x3 x7', 2521.3304982681875),\n",
       " ('x0 x3 x8', 1450.5364974890335),\n",
       " ('x0 x3 x9', -5084.1561725617885),\n",
       " ('x0 x3 x10', 2201.6072908923234),\n",
       " ('x0 x3 x11', -2543.170505878559),\n",
       " ('x0 x3 x12', -4981.662102553659),\n",
       " ('x0 x4^2', -3449.1824205543344),\n",
       " ('x0 x4 x5', 35.76312809284718),\n",
       " ('x0 x4 x6', -562.5753534896721),\n",
       " ('x0 x4 x7', -1224.3044205589977),\n",
       " ('x0 x4 x8', -144.60084237695446),\n",
       " ('x0 x4 x9', -150989.46281055367),\n",
       " ('x0 x4 x10', 162609.1170067516),\n",
       " ('x0 x4 x11', -206287.23848764313),\n",
       " ('x0 x4 x12', -61.06035467784386),\n",
       " ('x0 x5^2', 913.2113238829916),\n",
       " ('x0 x5 x6', 79.6132659797222),\n",
       " ('x0 x5 x7', 466.57165692874696),\n",
       " ('x0 x5 x8', 1041.4525905960832),\n",
       " ('x0 x5 x9', 18213.082410362644),\n",
       " ('x0 x5 x10', 19836.028718315356),\n",
       " ('x0 x5 x11', -16115.442227592714),\n",
       " ('x0 x5 x12', -209.10116386586014),\n",
       " ('x0 x6^2', 169.87710452363535),\n",
       " ('x0 x6 x7', 23.9214597416576),\n",
       " ('x0 x6 x8', -1502.105260953824),\n",
       " ('x0 x6 x9', 41456.3662093593),\n",
       " ('x0 x6 x10', -38050.87358292498),\n",
       " ('x0 x6 x11', 51629.46986552453),\n",
       " ('x0 x6 x12', 173.92507618277523),\n",
       " ('x0 x7^2', 408.6997658262844),\n",
       " ('x0 x7 x8', -4230.51324087439),\n",
       " ('x0 x7 x9', 74235.16920221782),\n",
       " ('x0 x7 x10', 88392.3085024484),\n",
       " ('x0 x7 x11', -42639.956284614476),\n",
       " ('x0 x7 x12', -187.56383243364075),\n",
       " ('x0 x8^2', -1814.1931418149088),\n",
       " ('x0 x8 x9', 34809.47245112412),\n",
       " ('x0 x8 x10', 142638.9980251781),\n",
       " ('x0 x8 x11', 24637.621688404623),\n",
       " ('x0 x8 x12', 648915.8595382046),\n",
       " ('x0 x9^2', 32059.802440178748),\n",
       " ('x0 x9 x10', 16483.31443591691),\n",
       " ('x0 x9 x11', 86497.94697465352),\n",
       " ('x0 x9 x12', 97826.57937417258),\n",
       " ('x0 x10^2', 22823.43359850344),\n",
       " ('x0 x10 x11', 167570.9686495944),\n",
       " ('x0 x10 x12', 64736.05590105531),\n",
       " ('x0 x11^2', -25420.874808621942),\n",
       " ('x0 x11 x12', 0.03942884950811276),\n",
       " ('x0 x12^2', -144.99358678073622),\n",
       " ('x1^3', -107.87455784442136),\n",
       " ('x1^2 x2', -101444.65434651297),\n",
       " ('x1^2 x3', -612287.6156663512),\n",
       " ('x1^2 x4', -34105.67570311968),\n",
       " ('x1^2 x5', -489685.53618709353),\n",
       " ('x1^2 x6', 9148.606929925394),\n",
       " ('x1^2 x7', -4808.595292710786),\n",
       " ('x1^2 x8', 147805.42651164916),\n",
       " ('x1^2 x9', 307450.2198295985),\n",
       " ('x1^2 x10', -243974.4818070053),\n",
       " ('x1^2 x11', 11157.703820187671),\n",
       " ('x1^2 x12', 143453.0616657506),\n",
       " ('x1 x2^2', 10454.02826812186),\n",
       " ('x1 x2 x3', -127544.23410356007),\n",
       " ('x1 x2 x4', 9305.30182881633),\n",
       " ('x1 x2 x5', -4310770.258580576),\n",
       " ('x1 x2 x6', 29017.242294440097),\n",
       " ('x1 x2 x7', -193.63074955797492),\n",
       " ('x1 x2 x8', 397476.47504811385),\n",
       " ('x1 x2 x9', 1892223.3762736185),\n",
       " ('x1 x2 x10', -227113.06209737813),\n",
       " ('x1 x2 x11', 6453.145433589758),\n",
       " ('x1 x2 x12', 98723.00035306248),\n",
       " ('x1 x3^2', 22196.342659256672),\n",
       " ('x1 x3 x4', -3806.113297816766),\n",
       " ('x1 x3 x5', 5111.926141795772),\n",
       " ('x1 x3 x6', -7530.469779383522),\n",
       " ('x1 x3 x7', 14724.619606074943),\n",
       " ('x1 x3 x8', -18405.613092247622),\n",
       " ('x1 x3 x9', 26260.413715932074),\n",
       " ('x1 x3 x10', 5152.742692547745),\n",
       " ('x1 x3 x11', 20104.139872159696),\n",
       " ('x1 x3 x12', -3936.2604630057176),\n",
       " ('x1 x4^2', -2229.9015021195282),\n",
       " ('x1 x4 x5', 541242.0545897702),\n",
       " ('x1 x4 x6', 3327.5099706850197),\n",
       " ('x1 x4 x7', 13103.122269683132),\n",
       " ('x1 x4 x8', 70508.08360262582),\n",
       " ('x1 x4 x9', 1228562.8487012559),\n",
       " ('x1 x4 x10', -811396.823906349),\n",
       " ('x1 x4 x11', 2908009.976146162),\n",
       " ('x1 x4 x12', 278516.2653551282),\n",
       " ('x1 x5^2', 84169.25123542009),\n",
       " ('x1 x5 x6', -17818.56043168594),\n",
       " ('x1 x5 x7', 28757.0637161064),\n",
       " ('x1 x5 x8', 23503.465164142923),\n",
       " ('x1 x5 x9', 2123.924933913513),\n",
       " ('x1 x5 x10', -18132.538788731792),\n",
       " ('x1 x5 x11', -5892.481662264065),\n",
       " ('x1 x5 x12', 89530.5113470637),\n",
       " ('x1 x6^2', -73053.07437857558),\n",
       " ('x1 x6 x7', -3829.8527613028564),\n",
       " ('x1 x6 x8', 3978.009467452328),\n",
       " ('x1 x6 x9', 3974.5247893456835),\n",
       " ('x1 x6 x10', 29298.00315918798),\n",
       " ('x1 x6 x11', -5795.178921104816),\n",
       " ('x1 x6 x12', 80254.88374869915),\n",
       " ('x1 x7^2', 26656.051235400846),\n",
       " ('x1 x7 x8', -1507.6659539754473),\n",
       " ('x1 x7 x9', 29650.344049139094),\n",
       " ('x1 x7 x10', -44279.22135215209),\n",
       " ('x1 x7 x11', 28085.928097840195),\n",
       " ('x1 x7 x12', -37114.38182044479),\n",
       " ('x1 x8^2', 2684.6555947689994),\n",
       " ('x1 x8 x9', -116158.90928563161),\n",
       " ('x1 x8 x10', 100561.06646711641),\n",
       " ('x1 x8 x11', 306691.0776049377),\n",
       " ('x1 x8 x12', 6738.149996123946),\n",
       " ('x1 x9^2', -13507.330600368747),\n",
       " ('x1 x9 x10', 849171.4320374315),\n",
       " ('x1 x9 x11', -216499.7257725977),\n",
       " ('x1 x9 x12', -183380.6572834646),\n",
       " ('x1 x10^2', -35495.05314815566),\n",
       " ('x1 x10 x11', 506837.9448703824),\n",
       " ('x1 x10 x12', 114929.49177946185),\n",
       " ('x1 x11^2', -21213.623184501208),\n",
       " ('x1 x11 x12', -348621.32628918113),\n",
       " ('x1 x12^2', -74490.0071329328),\n",
       " ('x2^3', -26034.226854540364),\n",
       " ('x2^2 x3', 983804.2213225994),\n",
       " ('x2^2 x4', -193.12969036013965),\n",
       " ('x2^2 x5', -3191994.808956357),\n",
       " ('x2^2 x6', -784.3206760441099),\n",
       " ('x2^2 x7', -1478.280674765614),\n",
       " ('x2^2 x8', -18977.30345256179),\n",
       " ('x2^2 x9', -2230578.8145333314),\n",
       " ('x2^2 x10', -311295.8871408406),\n",
       " ('x2^2 x11', -114971.79849222313),\n",
       " ('x2^2 x12', -51478.07110055402),\n",
       " ('x2 x3^2', 1420.3413368497859),\n",
       " ('x2 x3 x4', 190.9007740188099),\n",
       " ('x2 x3 x5', 1626.6811854862317),\n",
       " ('x2 x3 x6', 431.75831492190264),\n",
       " ('x2 x3 x7', -5272.07693796272),\n",
       " ('x2 x3 x8', -522.907651339432),\n",
       " ('x2 x3 x9', -3981.2355205489293),\n",
       " ('x2 x3 x10', 1695.030758121855),\n",
       " ('x2 x3 x11', -4968.71754474258),\n",
       " ('x2 x3 x12', 2254.240836827733),\n",
       " ('x2 x4^2', 802.489500696538),\n",
       " ('x2 x4 x5', 1384898.7837612657),\n",
       " ('x2 x4 x6', 19064.307624505243),\n",
       " ('x2 x4 x7', 12202.836055015898),\n",
       " ('x2 x4 x8', -49.260028467650045),\n",
       " ('x2 x4 x9', 4668281.743824757),\n",
       " ('x2 x4 x10', 1831104.1246316473),\n",
       " ('x2 x4 x11', 265921.810566503),\n",
       " ('x2 x4 x12', 72617.09226178261),\n",
       " ('x2 x5^2', 41014.74139703399),\n",
       " ('x2 x5 x6', -3489.9055866810013),\n",
       " ('x2 x5 x7', 6918.2671685581445),\n",
       " ('x2 x5 x8', 22998.397318570656),\n",
       " ('x2 x5 x9', -10211.251157076265),\n",
       " ('x2 x5 x10', 12144.196152252349),\n",
       " ('x2 x5 x11', -12388.3122899499),\n",
       " ('x2 x5 x12', -985.0348185984476),\n",
       " ('x2 x6^2', 5283.344196308004),\n",
       " ('x2 x6 x7', 3271.8731638678582),\n",
       " ('x2 x6 x8', 11379.54091753497),\n",
       " ('x2 x6 x9', 3848.5398086515706),\n",
       " ('x2 x6 x10', -12621.578549508267),\n",
       " ('x2 x6 x11', -8044.177553638638),\n",
       " ('x2 x6 x12', -6177.717781396466),\n",
       " ('x2 x7^2', 3691.292969241651),\n",
       " ('x2 x7 x8', -4515.668699187349),\n",
       " ('x2 x7 x9', -10272.747134316145),\n",
       " ('x2 x7 x10', 15506.956698954065),\n",
       " ('x2 x7 x11', -4389.980316310641),\n",
       " ('x2 x7 x12', -6910.54878653452),\n",
       " ('x2 x8^2', 36230.82035129128),\n",
       " ('x2 x8 x9', 611823.6006994698),\n",
       " ('x2 x8 x10', -345295.5435466144),\n",
       " ('x2 x8 x11', -9920.74686531751),\n",
       " ('x2 x8 x12', -122016.66257842886),\n",
       " ('x2 x9^2', -12087.861690388934),\n",
       " ('x2 x9 x10', -309846.3507506741),\n",
       " ('x2 x9 x11', -1664803.6741248833),\n",
       " ('x2 x9 x12', 83940.00509139948),\n",
       " ('x2 x10^2', 19518.882895575793),\n",
       " ('x2 x10 x11', -876913.4705889632),\n",
       " ('x2 x10 x12', -74775.99172753067),\n",
       " ('x2 x11^2', -24247.9729387002),\n",
       " ('x2 x11 x12', -18972.879967330606),\n",
       " ('x2 x12^2', 33918.709050845355),\n",
       " ('x3^3', 4500.273626220864),\n",
       " ('x3^2 x4', -845.4821102335409),\n",
       " ('x3^2 x5', 123.95348619678407),\n",
       " ('x3^2 x6', 2124.1708714653796),\n",
       " ('x3^2 x7', -826.0941376463161),\n",
       " ('x3^2 x8', -4966.590974965504),\n",
       " ('x3^2 x9', 9175.43706614006),\n",
       " ('x3^2 x10', 901.425368609911),\n",
       " ('x3^2 x11', 4101.311917005223),\n",
       " ('x3^2 x12', -1072.9217202078871),\n",
       " ('x3 x4^2', -3766.8489619687753),\n",
       " ('x3 x4 x5', 3122.8630655091256),\n",
       " ('x3 x4 x6', 368.9666206729162),\n",
       " ('x3 x4 x7', -2087.3055616280762),\n",
       " ('x3 x4 x8', 1718.8108112108166),\n",
       " ('x3 x4 x9', -4921.213194351672),\n",
       " ('x3 x4 x10', 3994.891586294616),\n",
       " ('x3 x4 x11', -2054.3260753821232),\n",
       " ('x3 x4 x12', -2084.6295633433474),\n",
       " ('x3 x5^2', -2921.247380614521),\n",
       " ('x3 x5 x6', -4377.238886548657),\n",
       " ('x3 x5 x7', 206.44771690127163),\n",
       " ('x3 x5 x8', -2313.9032244313917),\n",
       " ('x3 x5 x9', 3356.686809451581),\n",
       " ('x3 x5 x10', -6151.043720540176),\n",
       " ('x3 x5 x11', 6210.6977189214085),\n",
       " ('x3 x5 x12', 1620.2437748493867),\n",
       " ('x3 x6^2', -5145.907881656718),\n",
       " ('x3 x6 x7', 1704.5632036932248),\n",
       " ('x3 x6 x8', 3881.7359531129205),\n",
       " ('x3 x6 x9', -3105.5679870016465),\n",
       " ('x3 x6 x10', 4404.685402260831),\n",
       " ('x3 x6 x11', -6448.522623077788),\n",
       " ('x3 x6 x12', 513.1946956047104),\n",
       " ('x3 x7^2', 9700.125139800495),\n",
       " ('x3 x7 x8', -6203.284580775325),\n",
       " ('x3 x7 x9', 12277.74739982425),\n",
       " ('x3 x7 x10', 4536.417959560717),\n",
       " ('x3 x7 x11', 9132.148038131847),\n",
       " ('x3 x7 x12', -6338.116334704075),\n",
       " ('x3 x8^2', 1172.3811999729433),\n",
       " ('x3 x8 x9', -18955.748236481275),\n",
       " ('x3 x8 x10', -4273.240611337678),\n",
       " ('x3 x8 x11', -7646.177451386902),\n",
       " ('x3 x8 x12', 9779.542100359831),\n",
       " ('x3 x9^2', 4409.7537894052875),\n",
       " ('x3 x9 x10', 1058.842292181259),\n",
       " ('x3 x9 x11', -2321.4719945103116),\n",
       " ('x3 x9 x12', 397.09552088712735),\n",
       " ('x3 x10^2', 1425.038176681991),\n",
       " ('x3 x10 x11', -1618.8009748794175),\n",
       " ('x3 x10 x12', 1305.3277875308631),\n",
       " ('x3 x11^2', -1649.8619800942542),\n",
       " ('x3 x11 x12', -1220.6842650952094),\n",
       " ('x3 x12^2', -4777.040577333288),\n",
       " ('x4^3', 7925.097629284555),\n",
       " ('x4^2 x5', -1303.7794823213917),\n",
       " ('x4^2 x6', 3660.6333210424855),\n",
       " ('x4^2 x7', -1084.9211132434575),\n",
       " ('x4^2 x8', -4878.519156322087),\n",
       " ('x4^2 x9', -19980.18048985183),\n",
       " ('x4^2 x10', -387617.2434866528),\n",
       " ('x4^2 x11', 275254.1092592619),\n",
       " ('x4^2 x12', 662.4211913685431),\n",
       " ('x4 x5^2', 1626.840686129537),\n",
       " ('x4 x5 x6', -656.4748137522802),\n",
       " ('x4 x5 x7', -517.7388877671401),\n",
       " ('x4 x5 x8', 3003.166761263361),\n",
       " ('x4 x5 x9', -5560.482158027244),\n",
       " ('x4 x5 x10', -19619.762253450404),\n",
       " ('x4 x5 x11', 18019.399573176423),\n",
       " ('x4 x5 x12', -809.2442259199306),\n",
       " ('x4 x6^2', 444.2316565088877),\n",
       " ('x4 x6 x7', 1389.4150647793904),\n",
       " ('x4 x6 x8', 5205.809642208658),\n",
       " ('x4 x6 x9', -9051.881646480717),\n",
       " ('x4 x6 x10', -6007.8985625053865),\n",
       " ('x4 x6 x11', 6720.01400399355),\n",
       " ('x4 x6 x12', -447.7147599159398),\n",
       " ('x4 x7^2', 229.76765449504273),\n",
       " ('x4 x7 x8', 297.6612587786949),\n",
       " ('x4 x7 x9', 7858.116006514489),\n",
       " ('x4 x7 x10', 16762.983443629186),\n",
       " ('x4 x7 x11', -2982.674723904558),\n",
       " ('x4 x7 x12', -488.3500736453061),\n",
       " ('x4 x8^2', 1330.9840734809823),\n",
       " ('x4 x8 x9', 169641.2846118207),\n",
       " ('x4 x8 x10', -2551490.3064701147),\n",
       " ('x4 x8 x11', -487736.9740982012),\n",
       " ('x4 x8 x12', 21690.75600864383),\n",
       " ('x4 x9^2', 4652.485568438649),\n",
       " ('x4 x9 x10', -1014176.8841915396),\n",
       " ('x4 x9 x11', 2031270.11411157),\n",
       " ('x4 x9 x12', -78275.44907279233),\n",
       " ('x4 x10^2', -31492.649606962972),\n",
       " ('x4 x10 x11', 1537501.8230601482),\n",
       " ('x4 x10 x12', 79903.31311405593),\n",
       " ('x4 x11^2', 28787.797429106664),\n",
       " ('x4 x11 x12', 48.15487063761975),\n",
       " ('x4 x12^2', 7.927350379224663),\n",
       " ('x5^3', 345.1352477876135),\n",
       " ('x5^2 x6', -69.70074444933562),\n",
       " ('x5^2 x7', -356.7618511308756),\n",
       " ('x5^2 x8', 2555.743595096923),\n",
       " ('x5^2 x9', 2342.4124223811086),\n",
       " ('x5^2 x10', 5698.11244051289),\n",
       " ('x5^2 x11', -7886.3087901893305),\n",
       " ('x5^2 x12', -79.395657760615),\n",
       " ('x5 x6^2', 720.4799987212191),\n",
       " ('x5 x6 x7', 278.24576685065404),\n",
       " ('x5 x6 x8', -2732.7185349079227),\n",
       " ('x5 x6 x9', 2224.130272418144),\n",
       " ('x5 x6 x10', -4068.7228800874436),\n",
       " ('x5 x6 x11', 899.6021808813093),\n",
       " ('x5 x6 x12', -937.9286821676651),\n",
       " ('x5 x7^2', -2379.5405919958703),\n",
       " ('x5 x7 x8', -1025.521656168159),\n",
       " ('x5 x7 x9', 4708.262830036052),\n",
       " ('x5 x7 x10', -15896.527424636493),\n",
       " ('x5 x7 x11', 1860.0384491224395),\n",
       " ('x5 x7 x12', -31.11754676551209),\n",
       " ('x5 x8^2', 3054.4330149437083),\n",
       " ('x5 x8 x9', -2812.3188865722223),\n",
       " ('x5 x8 x10', 15749.086684776921),\n",
       " ('x5 x8 x11', 7115.795448901812),\n",
       " ('x5 x8 x12', -1444.3347978423699),\n",
       " ('x5 x9^2', -3238.229598122587),\n",
       " ('x5 x9 x10', -6027.213588748462),\n",
       " ('x5 x9 x11', 4005.5000342880376),\n",
       " ('x5 x9 x12', -359.7765257259016),\n",
       " ('x5 x10^2', 631.7409533619066),\n",
       " ('x5 x10 x11', -1133.3964179160976),\n",
       " ('x5 x10 x12', 958.9575016763774),\n",
       " ('x5 x11^2', -7131.825298192256),\n",
       " ('x5 x11 x12', 212.2446635197266),\n",
       " ('x5 x12^2', 232.01943429063613),\n",
       " ('x6^3', 363.41313101422566),\n",
       " ('x6^2 x7', 174.11011315562064),\n",
       " ('x6^2 x8', 1093.3637153452364),\n",
       " ('x6^2 x9', -111.2761866422079),\n",
       " ('x6^2 x10', -1818.742420716384),\n",
       " ('x6^2 x11', 908.7582222426427),\n",
       " ('x6^2 x12', 947.7899944305536),\n",
       " ('x6 x7^2', 942.8183576368465),\n",
       " ('x6 x7 x8', 4153.040892154793),\n",
       " ('x6 x7 x9', -11042.885300983966),\n",
       " ('x6 x7 x10', -5539.375948958215),\n",
       " ('x6 x7 x11', 7643.9183841060585),\n",
       " ('x6 x7 x12', 1858.2196274691087),\n",
       " ('x6 x8^2', 747.2272826101544),\n",
       " ('x6 x8 x9', -603.7019908680813),\n",
       " ('x6 x8 x10', -7887.9431115214975),\n",
       " ('x6 x8 x11', 4253.2576074753015),\n",
       " ('x6 x8 x12', -23067.569528471882),\n",
       " ('x6 x9^2', 3365.874839473214),\n",
       " ('x6 x9 x10', 8254.835557075363),\n",
       " ('x6 x9 x11', 294.83404830808286),\n",
       " ('x6 x9 x12', 2594.32785606126),\n",
       " ('x6 x10^2', -2302.5861872095848),\n",
       " ('x6 x10 x11', -5469.411367910681),\n",
       " ('x6 x10 x12', -7846.028791294928),\n",
       " ('x6 x11^2', -1220.1188234280708),\n",
       " ('x6 x11 x12', -293.09890688120504),\n",
       " ('x6 x12^2', -553.1585150980391),\n",
       " ('x7^3', -669.0932126770349),\n",
       " ('x7^2 x8', 3932.7792235368106),\n",
       " ('x7^2 x9', -20133.57154000953),\n",
       " ('x7^2 x10', 11149.011282709449),\n",
       " ('x7^2 x11', 9325.929130059674),\n",
       " ('x7^2 x12', 3532.95837630851),\n",
       " ('x7 x8^2', 304.00328991166316),\n",
       " ('x7 x8 x9', -7996.670846631401),\n",
       " ('x7 x8 x10', -15900.010033694176),\n",
       " ('x7 x8 x11', -16847.105566376937),\n",
       " ('x7 x8 x12', 17295.9945321372),\n",
       " ('x7 x9^2', 9205.650055603532),\n",
       " ('x7 x9 x10', 7679.488472393037),\n",
       " ('x7 x9 x11', -20588.682636320023),\n",
       " ('x7 x9 x12', 6674.41171345488),\n",
       " ('x7 x10^2', -18703.3397361561),\n",
       " ('x7 x10 x11', 5477.108325707508),\n",
       " ('x7 x10 x12', -8290.41479527149),\n",
       " ('x7 x11^2', 3419.912687138225),\n",
       " ('x7 x11 x12', -426.01826417604025),\n",
       " ('x7 x12^2', 889.032322575993),\n",
       " ('x8^3', -1363.4827669816186),\n",
       " ('x8^2 x9', -229889.01541287225),\n",
       " ('x8^2 x10', -89567.69350199227),\n",
       " ('x8^2 x11', 24963.733506493212),\n",
       " ('x8^2 x12', -19108.448343401513),\n",
       " ('x8 x9^2', -6915.553113977134),\n",
       " ('x8 x9 x10', 559000.7956275194),\n",
       " ('x8 x9 x11', 316641.3074833601),\n",
       " ('x8 x9 x12', 65442.57109887464),\n",
       " ('x8 x10^2', 21587.396740095304),\n",
       " ('x8 x10 x11', 354866.45127990964),\n",
       " ('x8 x10 x12', 25069.803683393315),\n",
       " ('x8 x11^2', -1245.8220101439438),\n",
       " ('x8 x11 x12', 12756.786875408667),\n",
       " ('x8 x12^2', 43535.65353827438),\n",
       " ('x9^3', -8520.666152390273),\n",
       " ('x9^2 x10', -134746.46315807663),\n",
       " ('x9^2 x11', 259601.13761841136),\n",
       " ('x9^2 x12', -51773.18576819124),\n",
       " ('x9 x10^2', -9265.163198092589),\n",
       " ('x9 x10 x11', -16459.017149101288),\n",
       " ('x9 x10 x12', 49657.4336040238),\n",
       " ('x9 x11^2', 12258.350616297701),\n",
       " ('x9 x11 x12', 8927.499172502794),\n",
       " ('x9 x12^2', -14778.07526536229),\n",
       " ('x10^3', -1954.1307283473652),\n",
       " ('x10^2 x11', 387664.34274718096),\n",
       " ('x10^2 x12', -20716.138254032106),\n",
       " ('x10 x11^2', -15737.689189656303),\n",
       " ('x10 x11 x12', -6178.78863124035),\n",
       " ('x10 x12^2', 22752.910019879462),\n",
       " ('x11^3', -991.5594649533705),\n",
       " ('x11^2 x12', -11.9475395817135),\n",
       " ('x11 x12^2', 139.23689078807365),\n",
       " ('x12^3', 210.2876783891843)]"
      ]
     },
     "execution_count": 90,
     "metadata": {},
     "output_type": "execute_result"
    }
   ],
   "source": [
    "list(zip(poly.get_feature_names_out()[1:], linear_regression.coef_))"
   ]
  },
  {
   "cell_type": "code",
   "execution_count": 91,
   "metadata": {},
   "outputs": [
    {
     "data": {
      "text/plain": [
       "0.2892138861500657"
      ]
     },
     "execution_count": 91,
     "metadata": {},
     "output_type": "execute_result"
    }
   ],
   "source": [
    "np.sqrt(mean_squared_error(target, predictions))"
   ]
  },
  {
   "cell_type": "code",
   "execution_count": null,
   "metadata": {},
   "outputs": [],
   "source": []
  }
 ],
 "metadata": {
  "kernelspec": {
   "display_name": "base",
   "language": "python",
   "name": "python3"
  },
  "language_info": {
   "codemirror_mode": {
    "name": "ipython",
    "version": 3
   },
   "file_extension": ".py",
   "mimetype": "text/x-python",
   "name": "python",
   "nbconvert_exporter": "python",
   "pygments_lexer": "ipython3",
   "version": "3.10.9"
  },
  "orig_nbformat": 4
 },
 "nbformat": 4,
 "nbformat_minor": 2
}
